{
 "cells": [
  {
   "cell_type": "markdown",
   "metadata": {},
   "source": [
    "# Caesar Chiffre"
   ]
  },
  {
   "cell_type": "markdown",
   "metadata": {},
   "source": [
    "In der Kryptologie wird mit Verschlüsselung jener Prozess beschrieben,\n",
    "der eine Nachricht so transformiert, dass sie idealerweise nur von\n",
    "autorisierten Parteien gelesen werden kann.\n",
    "Dieser Prozess wandelt die\n",
    "ursprüngliche Darstellung der Informationen, bekannt als Klartext, in eine\n",
    "alternative Form, bekannt als Chiffretext, um. Trotz seines Ziels\n",
    "verhindert die Verschlüsselung nicht selbst die Interferenz, sondern\n",
    "verweigert dem potenziellen Abhörer den verständlichen Inhalt.\n",
    "\n",
    "*Aus [Wikipedia](https://en.wikipedia.org/wiki/Encryption)*"
   ]
  },
  {
   "cell_type": "markdown",
   "metadata": {},
   "source": [
    "Das erste Beispiel für eine Chiffre, das wir uns ansehen werden, ist die\n",
    "Caesar-Chiffre.\n",
    "\n",
    "Die Caesar-Chiffre ist eine einfache Substitutionsverschlüsselungstechnik, bei der\n",
    "jeder Buchstabe des zu verschlüsselnden Textes durch einen Buchstaben\n",
    "ersetzt wird, der sich um eine feste Anzahl von Positionen im Alphabet\n",
    "verschiebt. Zum Beispiel würde bei einer Verschiebung um vier Positionen\n",
    "nach rechts `A` durch `E` ersetzt werden, und das Wort `CIPHER` würde zu\n",
    "`GMTLIV`. Die Technik ist nach Julius Caesar benannt, der sie in seinen\n",
    "Briefen verwendete. Die Einfachheit der Caesar-Chiffre macht sie zu\n",
    "einer beliebten Quelle für Freizeit-Kryptogramme.  \n",
    "\n",
    "*Aus [Encyclopedia Britannica](https://www.britannica.com/topic/Caesar-cipher)*"
   ]
  },
  {
   "cell_type": "markdown",
   "metadata": {},
   "source": [
    "## Python Implementation"
   ]
  },
  {
   "cell_type": "markdown",
   "metadata": {},
   "source": [
    "Um die Caesar-Chiffre in Python zu implementieren, bauen wir auf den von\n",
    "Python angebotenen String-Methoden auf. Die Funktion `ord` gibt den \n",
    "<a href=\"https://home.unicode.org/\" target=\"_blank\">\n",
    "Unicode-</a>Codepunkt für ein gegebenes Zeichen zurück, und die Funktion `chr` gibt\n",
    "das Zeichen zurück, das dem gegebenen Unicode-Codepunkt entspricht. "
   ]
  },
  {
   "cell_type": "code",
   "execution_count": null,
   "metadata": {},
   "outputs": [],
   "source": [
    "# Was ist der Unicode Wert des Buchstabens 'A'?"
   ]
  },
  {
   "cell_type": "markdown",
   "metadata": {},
   "source": [
    "### Simple (naive) Implementation"
   ]
  },
  {
   "cell_type": "markdown",
   "metadata": {},
   "source": [
    "Als erstes definieren wir eine Funktion, die einen gegebenen Klartext\n",
    "verschlüsselt, indem sie jeden Buchstaben um eine bestimmte Anzahl von\n",
    "Positionen im Alphabet verschiebt."
   ]
  },
  {
   "cell_type": "code",
   "execution_count": 2,
   "metadata": {},
   "outputs": [],
   "source": [
    "plain = \"CIPHER\"\n",
    "shift = 4"
   ]
  },
  {
   "cell_type": "code",
   "execution_count": 6,
   "metadata": {},
   "outputs": [],
   "source": [
    "def caesar_encode(plain, shift):\n",
    "    cipher = \"\"\n",
    "    \n",
    "    for char in plain:\n",
    "        shifted = ord(char) + shift\n",
    "        cipher += chr(shifted)\n",
    "        \n",
    "    return cipher"
   ]
  },
  {
   "cell_type": "markdown",
   "metadata": {},
   "source": [
    "### Verbesserte Implementation"
   ]
  },
  {
   "cell_type": "markdown",
   "metadata": {},
   "source": [
    "Was geschieht aber, wenn wir das Ende des Alphabets erreichen? Zum Beispiel,\n",
    "wenn wir `Z` um 4 Positionen verschieben, würden wir über `Z` hinausgehen. Um\n",
    "dies zu handhaben, können wir den Modulo-Operator `%` verwenden, um im\n",
    "Alphabet von vorne zu beginnen. Der Modulo-Operator gibt den Rest einer\n",
    "Division zurück, was es uns ermöglicht, wieder bei Null zu beginnen, wenn wir die\n",
    "Länge des Alphabets überschreiten. Im Fall der Caesar-Chiffre können wir\n",
    "ihn verwenden, um sicherzustellen, dass unsere verschobenen Positionen\n",
    "innerhalb der Grenzen des Alphabets bleiben.\n",
    "\n",
    "Daher verwenden wir modulo 26 (die Anzahl der Buchstaben im lateinischen Alphabet),\n",
    "um sicherzustellen, dass unsere verschobenen Positionen korrekt \"herumwickeln\".\n",
    "Wenn wir `Z` um 4 Positionen verschieben, landen wir bei `D`. Dieses Wickelverhalten\n",
    "ist für die Funktionsweise der Caesar-Chiffre von entscheidender Bedeutung.\n",
    "Die Berechnung der neuen Position eines Buchstabens kann wie folgt ausgedrückt werden:\n",
    "\n",
    "$$\n",
    "x' = (x + n) \\mod 26\n",
    "$$\n",
    "\n",
    "oder in einer kompakteren Form mit dem Modulo-Additionsoperator:\n",
    "\n",
    "$$\n",
    "x' = x \\oplus_{26} n\n",
    "$$\n",
    "\n",
    "In Python können wir dies wie folgt implementieren:"
   ]
  },
  {
   "cell_type": "code",
   "execution_count": null,
   "metadata": {},
   "outputs": [],
   "source": [
    "def caesar_encrypt_mod(plain, shift):\n",
    "    cipher = \"\"\n",
    "    \n",
    "    for char in plain:\n",
    "        shifted = (ord(char) - ord('A') + shift) % 26 + ord('A')\n",
    "        cipher += chr(shifted)\n",
    "        \n",
    "    return cipher"
   ]
  },
  {
   "cell_type": "markdown",
   "metadata": {},
   "source": [
    "Weil\n",
    "\n",
    "```python\n",
    "ord('A')\n",
    "```\n",
    "\n",
    "65 zurückgibt, müssen wir 65 von dem Ergebnis von `ord('A')`\n",
    "subtrahieren, um 0 zu erhalten. Dies gibt uns den 0-basierten Index des\n",
    "Buchstabens im Alphabet, der für unsere Berechnungen nützlich ist. \n",
    "\n",
    "Daher die oben gezeigte Berechnung."
   ]
  },
  {
   "cell_type": "markdown",
   "metadata": {},
   "source": [
    "Für die Entschlüsselung können wir einfach den Verschiebungswert subtrahieren anstatt ihn zu addieren:"
   ]
  },
  {
   "cell_type": "code",
   "execution_count": null,
   "metadata": {},
   "outputs": [],
   "source": [
    "def caesar_decrypt_mod(plain, shift):\n",
    "    cipher = \"\"\n",
    "    \n",
    "    for char in plain:\n",
    "        shifted = (ord(char) - ord('A') - shift) % 26 + ord('A')\n",
    "        cipher += chr(shifted)\n",
    "        \n",
    "    return cipher"
   ]
  },
  {
   "cell_type": "markdown",
   "metadata": {},
   "source": [
    "Für die Bequemlichkeit implementieren wir eine Funktion die sowohl ver-\n",
    "als auch entschlüsselt."
   ]
  },
  {
   "cell_type": "code",
   "execution_count": null,
   "metadata": {},
   "outputs": [],
   "source": [
    "def caesar(text : str, shift : int, encrypt=True) -> str:\n",
    "    text = text.upper()\n",
    "    result = \"\"\n",
    "    \n",
    "    if encrypt:\n",
    "        for char in text:\n",
    "            shifted = (ord(char) - ord('A') + shift) % 26 + ord('A')\n",
    "            result += chr(shifted)\n",
    "    else:\n",
    "        for char in text:\n",
    "            shifted = (ord(char) - ord('A') - shift) % 26 + ord('A')\n",
    "            result += chr(shifted)\n",
    "            \n",
    "    return result"
   ]
  },
  {
   "cell_type": "markdown",
   "metadata": {},
   "source": [
    "## Caesar Chiffre brechen"
   ]
  },
  {
   "cell_type": "markdown",
   "metadata": {},
   "source": [
    "Es gibt zwei Hauptmethoden, um eine Caesar-Chiffre zu brechen:\n",
    "\n",
    "1. Brute Force Attack: Versuchen Sie alle möglichen Verschiebungen\n",
    "   (1-25) und sehen Sie, welche eine sinnvolle Ausgabe erzeugt. \n",
    "2. Frequency Analysis: Analysieren Sie die Häufigkeit von Buchstaben im\n",
    "   Chiffretext und vergleichen Sie sie mit der erwarteten Häufigkeit von\n",
    "   Buchstaben in der Sprache. "
   ]
  },
  {
   "cell_type": "markdown",
   "metadata": {},
   "source": [
    "### Brute Force Attack"
   ]
  },
  {
   "cell_type": "code",
   "execution_count": null,
   "metadata": {},
   "outputs": [],
   "source": [
    "def caesar_bruteforce(ciphertext: str) -> None:\n",
    "    for shift in range(1, 26):\n",
    "        decrypted_text = caesar(ciphertext, shift, encrypt=False)\n",
    "        print(f\"Shift {shift}: {decrypted_text}\")"
   ]
  },
  {
   "cell_type": "markdown",
   "metadata": {},
   "source": [
    "### Häufigkeitsanalyse\n",
    "\n",
    "In der deutschen Sprache erscheinen bestimmte Buchstaben häufiger als\n",
    "andere. Zum Beispiel ist der Buchstabe 'E' der häufigste Buchstabe in deutschen\n",
    "Texten, gefolgt von 'N', 'I', 'S', 'R' und 'A'. Durch die Analyse der\n",
    "Häufigkeit von Buchstaben im Chiffretext können wir fundierte Vermutungen \n",
    "darüber anstellen, welche Buchstaben im Klartext welchen im Chiffretext entsprechen.\n",
    "\n",
    "Für eine genauere Analyse siehe die folgende Häufigkeitstabelle:\n",
    "\n",
    "\n",
    "| Platz | Buchstabe | Relative Häufigkeit |\n",
    "| ---: | :--- | ---: |\n",
    "| 1. | E | 17,40 % |\n",
    "| 2. | N | 9,78 % |\n",
    "| 3. | I | 7,55 % |\n",
    "| 4. | S | 7,27 % |\n",
    "| 5. | R | 7,00 % |\n",
    "| 6. | A | 6,51 % |\n",
    "| 7. | T | 6,15 % |\n",
    "| 8. | D | 5,08 % |\n",
    "| 9. | H | 4,76 % |\n",
    "| 10. | U | 4,35 % |\n",
    "| 11. | L | 3,44 % |\n",
    "| 12. | C | 3,06 % |\n",
    "| 13. | G | 3,01 % |\n",
    "| 14. | M | 2,53 % |\n",
    "| 15. | O | 2,51 % |\n",
    "| 16. | B | 1,89 % |\n",
    "| 17. | W | 1,89 % |\n",
    "| 18. | F | 1,66 % |\n",
    "| 19. | K | 1,21 % |\n",
    "| 20. | Z | 1,13 % |\n",
    "| 21. | P | 0,79 % |\n",
    "| 22. | V | 0,67 % |\n",
    "| 23. | J | 0,27 % |\n",
    "| 24. | Y | 0,04 % |\n",
    "| 25. | X | 0,03 % |\n",
    "| 26. | Q | 0,02 % |\n",
    "\n",
    "*Quelle: [Wikipedia](https://de.wikipedia.org/wiki/H%C3%A4ufigkeitsanalyse)*\n"
   ]
  },
  {
   "cell_type": "markdown",
   "metadata": {},
   "source": [
    "Wir brauchen also eine Funktion, die die Häufigkeit jedes Buchstabens im\n",
    "Chiffretext zählt. Das Ergebnis sollte ein Dictionary sein, bei dem die\n",
    "Schlüssel die Buchstaben und die Werte die Zählungen jedes Buchstabens\n",
    "sind. Oder noch besser, die Häufigkeiten in Prozent. \n",
    "\n",
    "Um die Sache einfach zu halten, nehmen wir an, dass der Eingabetext nur\n",
    "Großbuchstaben von `A` bis `Z` und keine Leerzeichen oder Satzzeichen\n",
    "enthält. "
   ]
  },
  {
   "cell_type": "code",
   "execution_count": 22,
   "metadata": {},
   "outputs": [],
   "source": [
    "def letter_frequency(text: str) -> dict:\n",
    "    frequency = {}\n",
    "    total_letters = 0\n",
    "    \n",
    "    for char in text:\n",
    "        if char not in frequency:\n",
    "            frequency[char] = 1\n",
    "        else:\n",
    "            frequency[char] += 1\n",
    "        total_letters += 1\n",
    "        \n",
    "    for key, value in frequency.items():\n",
    "        frequency[key] = (value / total_letters) * 100\n",
    "        \n",
    "           \n",
    "    return frequency"
   ]
  },
  {
   "cell_type": "markdown",
   "metadata": {},
   "source": [
    "Nachdem wir den häufigsten Buchstaben im Chiffretext gefunden haben,\n",
    "können wir annehmen, dass er dem Buchstaben 'E' im Klartext entspricht.\n",
    "Indem wir die Verschiebung berechnen, die erforderlich ist, um den\n",
    "häufigsten Buchstaben in 'E' zu verwandeln, können wir dann den gesamten\n",
    "Chiffretext mit diesem Verschiebungswert entschlüsseln. "
   ]
  },
  {
   "cell_type": "code",
   "execution_count": 24,
   "metadata": {},
   "outputs": [],
   "source": [
    "def find_shift(char: str, e = 'E') -> int:\n",
    "    return (ord(char) - ord(e)) % 26"
   ]
  }
 ],
 "metadata": {
  "kernelspec": {
   "display_name": ".venv",
   "language": "python",
   "name": "python3"
  },
  "language_info": {
   "codemirror_mode": {
    "name": "ipython",
    "version": 3
   },
   "file_extension": ".py",
   "mimetype": "text/x-python",
   "name": "python",
   "nbconvert_exporter": "python",
   "pygments_lexer": "ipython3",
   "version": "3.13.5"
  }
 },
 "nbformat": 4,
 "nbformat_minor": 2
}
