{
 "cells": [
  {
   "cell_type": "markdown",
   "metadata": {},
   "source": [
    "# Caesar Chiffre"
   ]
  },
  {
   "cell_type": "markdown",
   "metadata": {},
   "source": [
    "In der Kryptologie ist die verschlüsselung der Prozess der\n",
    "Transformation von Informationen auf eine Weise, die idealerweise nur\n",
    "autorisierte Parteien decodieren können. Dieser Prozess wandelt die\n",
    "ursprüngliche Darstellung der Informationen, bekannt als Klartext, in eine\n",
    "alternative Form, bekannt als Chiffretext, um. Trotz seines Ziels\n",
    "verhindert die Verschlüsselung nicht selbst die Interferenz, sondern\n",
    "verweigert dem potenziellen Abhörer den verständlichen Inhalt.\n",
    "\n",
    "*Aus [Wikipedia](https://en.wikipedia.org/wiki/Encryption)*"
   ]
  },
  {
   "cell_type": "markdown",
   "metadata": {},
   "source": [
    "Das erste Beispiel für eine Chiffre, das wir uns ansehen werden, ist die\n",
    "Caesar-Chiffre.\n",
    "\n",
    "Die Caesar-Chiffre ist eine einfache Substitutionsverschlüsselungstechnik, bei der\n",
    "jeder Buchstabe des zu verschlüsselnden Textes durch einen Buchstaben\n",
    "ersetzt wird, der sich um eine feste Anzahl von Positionen im Alphabet\n",
    "verschiebt. Zum Beispiel würde bei einer Verschiebung um vier Positionen\n",
    "nach rechts `A` durch `E` ersetzt werden, und das Wort `CIPHER` würde zu\n",
    "`GMTLIV`. Die Technik ist nach Julius Caesar benannt, der sie in seinen\n",
    "Briefen verwendete. Die Einfachheit der Caesar-Chiffre macht sie zu\n",
    "einer beliebten Quelle für Freizeit-Kryptogramme.  \n",
    "\n",
    "*Aus [Encyclopedia Britannica](https://www.britannica.com/topic/Caesar-cipher)*"
   ]
  },
  {
   "cell_type": "markdown",
   "metadata": {},
   "source": [
    "## Python Implementation"
   ]
  },
  {
   "cell_type": "markdown",
   "metadata": {},
   "source": [
    "Um die Caesar-Chiffre in Python zu implementieren, bauen wir auf den von\n",
    "Python angebotenen String-Methoden auf. Die Funktion `ord` gibt den \n",
    "<a href=\"https://home.unicode.org/\" target=\"_blank\">\n",
    "Unicode\n",
    "</a>\n",
    "Codepunkt für ein gegebenes Zeichen zurück, und die Funktion `chr` gibt\n",
    "das Zeichen zurück, das dem gegebenen Unicode-Codepunkt entspricht. "
   ]
  },
  {
   "cell_type": "code",
   "execution_count": null,
   "metadata": {},
   "outputs": [],
   "source": [
    "# Was ist der Unicode Wert des Buchstabens 'A'?"
   ]
  },
  {
   "cell_type": "markdown",
   "metadata": {},
   "source": [
    "### Simple (naive) Implementation"
   ]
  },
  {
   "cell_type": "markdown",
   "metadata": {},
   "source": [
    "Als erstes definieren wir eine Funktion, die einen gegebenen Klartext\n",
    "verschlüsselt, indem sie jeden Buchstaben um eine bestimmte Anzahl von\n",
    "Positionen im Alphabet verschiebt."
   ]
  },
  {
   "cell_type": "code",
   "execution_count": 2,
   "metadata": {},
   "outputs": [],
   "source": [
    "plain = \"CIPHER\"\n",
    "shift = 4"
   ]
  },
  {
   "cell_type": "code",
   "execution_count": 6,
   "metadata": {},
   "outputs": [],
   "source": [
    "def caesar_encode(plain, shift):\n",
    "    cipher = \"\"\n",
    "    \n",
    "    for char in plain:\n",
    "        shifted = ord(char) + shift\n",
    "        cipher += chr(shifted)\n",
    "        \n",
    "    return cipher"
   ]
  },
  {
   "cell_type": "markdown",
   "metadata": {},
   "source": [
    "### Verbesserte Implementation"
   ]
  },
  {
   "cell_type": "markdown",
   "metadata": {},
   "source": [
    "Was geschieht aber, wenn wir das Ende des Alphabets erreichen? Zum Beispiel,\n",
    "wenn wir `Z` um 4 Positionen verschieben, würden wir über `Z` hinausgehen. Um\n",
    "dies zu handhaben, können wir den Modulo-Operator `%` verwenden, um im\n",
    "Alphabet von vorne zu beginnen. Der Modulo-Operator gibt den Rest einer\n",
    "Division zurück, was es uns ermöglicht, wieder bei Null zu beginnen, wenn wir die\n",
    "Länge des Alphabets überschreiten. Im Fall der Caesar-Chiffre können wir\n",
    "ihn verwenden, um sicherzustellen, dass unsere verschobenen Positionen\n",
    "innerhalb der Grenzen des Alphabets bleiben.\n",
    "\n",
    "Daher verwenden wir modulo 26 (die Anzahl der Buchstaben im lateinischen Alphabet),\n",
    "um sicherzustellen, dass unsere verschobenen Positionen korrekt \"herumwickeln\".\n",
    "Wenn wir `Z` um 4 Positionen verschieben, landen wir bei `D`. Dieses Wickelverhalten\n",
    "ist für die Funktionsweise der Caesar-Chiffre von entscheidender Bedeutung.\n",
    "Die Berechnung der neuen Position eines Buchstabens kann wie folgt ausgedrückt werden:\n",
    "\n",
    "$$\n",
    "x' = (x + n) \\mod 26\n",
    "$$\n",
    "\n",
    "oder in einer kompakteren Form mit dem Modulo-Additionsoperator:\n",
    "\n",
    "$$\n",
    "x' = x \\oplus_{26} n\n",
    "$$\n",
    "\n",
    "In Python können wir dies wie folgt implementieren:"
   ]
  },
  {
   "cell_type": "code",
   "execution_count": null,
   "metadata": {},
   "outputs": [],
   "source": [
    "def caesar_encrypt_mod(plain, shift):\n",
    "    cipher = \"\"\n",
    "    \n",
    "    for char in plain:\n",
    "        shifted = (ord(char) - ord('A') + shift) % 26 + ord('A')\n",
    "        cipher += chr(shifted)\n",
    "        \n",
    "    return cipher"
   ]
  },
  {
   "cell_type": "markdown",
   "metadata": {},
   "source": [
    "Because\n",
    "\n",
    "```python\n",
    "ord('A')\n",
    "```\n",
    "returns 65, we need to subtract 65 from the result of `ord('A')` to get\n",
    "0. This gives us the 0-based index of the letter in the alphabet, which\n",
    "is useful for our calculations. \n",
    "\n",
    "Hence the calculation shown above."
   ]
  },
  {
   "cell_type": "markdown",
   "metadata": {},
   "source": [
    "For the decryption, we can simply subtract the shift value instead of adding it:"
   ]
  },
  {
   "cell_type": "code",
   "execution_count": null,
   "metadata": {},
   "outputs": [],
   "source": [
    "def caesar_decrypt_mod(plain, shift):\n",
    "    cipher = \"\"\n",
    "    \n",
    "    for char in plain:\n",
    "        shifted = (ord(char) - ord('A') - shift) % 26 + ord('A')\n",
    "        cipher += chr(shifted)\n",
    "        \n",
    "    return cipher"
   ]
  },
  {
   "cell_type": "markdown",
   "metadata": {},
   "source": [
    "For convenience, we implement one function for both encryption and decryption."
   ]
  },
  {
   "cell_type": "code",
   "execution_count": null,
   "metadata": {},
   "outputs": [],
   "source": [
    "def caesar(text : str, shift : int, encrypt=True) -> str:\n",
    "    text = text.upper()\n",
    "    result = \"\"\n",
    "    \n",
    "    if encrypt:\n",
    "        for char in text:\n",
    "            shifted = (ord(char) - ord('A') + shift) % 26 + ord('A')\n",
    "            result += chr(shifted)\n",
    "    else:\n",
    "        for char in text:\n",
    "            shifted = (ord(char) - ord('A') - shift) % 26 + ord('A')\n",
    "            result += chr(shifted)\n",
    "            \n",
    "    return result"
   ]
  },
  {
   "cell_type": "markdown",
   "metadata": {},
   "source": [
    "## Breaking Caesar Cipher"
   ]
  },
  {
   "cell_type": "markdown",
   "metadata": {},
   "source": [
    "There are two main methods to break a Caesar cipher:\n",
    "1. Brute Force Attack: Try all possible shifts (1-25) and see which one\n",
    "   produces a meaningful result.\n",
    "2. Frequency Analysis: Analyse the frequency of letters in the ciphertext\n",
    "   and compare it to the expected frequency of letters in the language."
   ]
  },
  {
   "cell_type": "markdown",
   "metadata": {},
   "source": [
    "### Brute Force Attack"
   ]
  },
  {
   "cell_type": "code",
   "execution_count": null,
   "metadata": {},
   "outputs": [],
   "source": [
    "def caesar_bruteforce(ciphertext: str) -> None:\n",
    "    for shift in range(1, 26):\n",
    "        decrypted_text = caesar(ciphertext, shift, encrypt=False)\n",
    "        print(f\"Shift {shift}: {decrypted_text}\")"
   ]
  },
  {
   "cell_type": "markdown",
   "metadata": {},
   "source": [
    "### Frequency Analysis\n",
    "\n",
    "In the English language, certain letters appear more frequently than\n",
    "others. For example, the letter 'E' is the most common letter in English\n",
    "text, followed by 'T', 'A', 'O', 'I', and 'N'. By analysing the\n",
    "frequency of letters in the ciphertext, we can make educated guesses\n",
    "about which letters correspond to which in the plaintext. \n",
    "\n",
    "For a more accurate analysis, see the following frequency table:\n",
    "\n",
    "| Letter | Frequency |\n",
    "|--------|---:|\n",
    "| E      | 12.02%    |\n",
    "| T      | 9.10%     |\n",
    "| A      | 8.12%     |\n",
    "| O      | 7.68%     |\n",
    "| I      | 7.31%     |\n",
    "| N      | 6.95%     |\n",
    "| S      | 6.28%     |\n",
    "| R      | 6.02%     |\n",
    "| H      | 5.92%     |\n",
    "| D      | 4.32%     |\n",
    "| L      | 4.03%     |\n",
    "| C      | 2.78%     |\n",
    "| U      | 2.76%     |\n",
    "| M      | 2.41%     |\n",
    "| W      | 2.36%     |\n",
    "| F      | 2.23%     |\n",
    "| G      | 2.02%     |\n",
    "| Y      | 1.97%     |\n",
    "| P      | 1.93%     |\n",
    "| B      | 1.49%     |\n",
    "| V      | 0.98%     |\n",
    "| K      | 0.77%     |\n",
    "| J      | 0.15%     |\n",
    "| X      | 0.15%     |\n",
    "| Q      | 0.10%     |\n",
    "| Z      | 0.07%     |\n",
    "\n"
   ]
  },
  {
   "cell_type": "markdown",
   "metadata": {},
   "source": [
    "Therefore, we need a function that counts the frequency of each letter\n",
    "in the ciphertext. The result should be a dictionary where the keys are\n",
    "the letters and the values are the counts of each letter. Or even\n",
    "better, the frequencies in percent.\n",
    "\n",
    "To keep things simple, we assume that the input text only contains uppercase letters\n",
    "from `A` to `Z` and no spaces or punctuation."
   ]
  },
  {
   "cell_type": "code",
   "execution_count": 22,
   "metadata": {},
   "outputs": [],
   "source": [
    "def letter_frequency(text: str) -> dict:\n",
    "    frequency = {}\n",
    "    total_letters = 0\n",
    "    \n",
    "    for char in text:\n",
    "        if char not in frequency:\n",
    "            frequency[char] = 1\n",
    "        else:\n",
    "            frequency[char] += 1\n",
    "        total_letters += 1\n",
    "        \n",
    "    for key, value in frequency.items():\n",
    "        frequency[key] = (value / total_letters) * 100\n",
    "        \n",
    "           \n",
    "    return frequency"
   ]
  },
  {
   "cell_type": "markdown",
   "metadata": {},
   "source": [
    "After finding the most frequent letter in the ciphertext, we can assume that it corresponds to the letter 'E' in the plaintext. By calculating the shift needed to convert the most frequent letter to 'E', we can then decrypt the entire ciphertext using that shift value."
   ]
  },
  {
   "cell_type": "code",
   "execution_count": 24,
   "metadata": {},
   "outputs": [],
   "source": [
    "def find_shift(char: str, e = 'E') -> int:\n",
    "    return (ord(char) - ord(e)) % 26"
   ]
  },
  {
   "cell_type": "markdown",
   "metadata": {},
   "source": [
    "After guessing the shift, we can use our existing `caesar` function to\n",
    "decrypt the ciphertext. We can call the function with the encrypted text\n",
    "and the guessed shift value to obtain the original plaintext. \n",
    "\n",
    "If needed, the implementation of the `find_shift` function can exchange\n",
    "the default value for the most frequent letter to another letter."
   ]
  }
 ],
 "metadata": {
  "kernelspec": {
   "display_name": ".venv",
   "language": "python",
   "name": "python3"
  },
  "language_info": {
   "codemirror_mode": {
    "name": "ipython",
    "version": 3
   },
   "file_extension": ".py",
   "mimetype": "text/x-python",
   "name": "python",
   "nbconvert_exporter": "python",
   "pygments_lexer": "ipython3",
   "version": "3.13.5"
  }
 },
 "nbformat": 4,
 "nbformat_minor": 2
}
