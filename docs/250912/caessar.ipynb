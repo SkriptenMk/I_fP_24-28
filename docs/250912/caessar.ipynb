{
 "cells": [
  {
   "cell_type": "markdown",
   "metadata": {},
   "source": [
    "In cryptography, encryption is the process\n",
    "of transforming information in a way that, ideally, only authorised\n",
    "parties can decode. This process converts the original representation of\n",
    "the information, known as plaintext, into an alternative form known as\n",
    "ciphertext. Despite its goal, encryption does not itself prevent\n",
    "interference but denies the intelligible content to a would-be\n",
    "interceptor.  \n",
    "*From [Wikipedia](https://en.wikipedia.org/wiki/Encryption)*"
   ]
  },
  {
   "cell_type": "markdown",
   "metadata": {},
   "source": [
    "The first example of a cipher we will look at is the Caesar cipher.\n",
    "\n",
    "The Caesar cipher is a simple substitution encryption technique in which\n",
    "each letter of the text to be encrypted is replaced by a letter a fixed\n",
    "number of positions away in the alphabet. For example, using a right\n",
    "letter shift of four, `A` would be replaced by `E`, and the word `CIPHER`\n",
    "would become `GMTLIV`. The technique is named after Julius Caesar, who\n",
    "used it in his letters. The simplicity of the Caesar cipher makes it a\n",
    "popular source for recreational cryptograms.  \n",
    "*From [Encyclopedia Britannica](https://www.britannica.com/topic/Caesar-cipher)*"
   ]
  },
  {
   "cell_type": "markdown",
   "metadata": {},
   "source": [
    "## Python Implementation"
   ]
  },
  {
   "cell_type": "markdown",
   "metadata": {},
   "source": [
    "To implement the Caesar cipher in Python, we build on the string methods\n",
    "offered by Python. The `ord` function returns the \n",
    "<a href=\"https://home.unicode.org/\" target=\"_blank\">\n",
    "Unicode\n",
    "</a>\n",
    "code point for\n",
    "a given character, and the `chr` function returns the character that\n",
    "corresponds to a given Unicode code point."
   ]
  },
  {
   "cell_type": "code",
   "execution_count": null,
   "metadata": {},
   "outputs": [],
   "source": [
    "# What is the Unicode code point of the character 'A'?"
   ]
  },
  {
   "cell_type": "markdown",
   "metadata": {},
   "source": [
    "### Simple (naïve) Implementation"
   ]
  },
  {
   "cell_type": "markdown",
   "metadata": {},
   "source": [
    "First, we define a function that encrypts a given plaintext by shifting\n",
    "each letter by a specified number of positions in the alphabet."
   ]
  },
  {
   "cell_type": "code",
   "execution_count": 2,
   "metadata": {},
   "outputs": [],
   "source": [
    "plain = \"CIPHER\"\n",
    "shift = 4"
   ]
  },
  {
   "cell_type": "code",
   "execution_count": 6,
   "metadata": {},
   "outputs": [],
   "source": [
    "def caesar_encode(plain, shift):\n",
    "    cipher = \"\"\n",
    "    \n",
    "    for char in plain:\n",
    "        shifted = ord(char) + shift\n",
    "        cipher += chr(shifted)\n",
    "        \n",
    "    return cipher"
   ]
  },
  {
   "cell_type": "markdown",
   "metadata": {},
   "source": [
    "### Enhanced Implementation"
   ]
  },
  {
   "cell_type": "markdown",
   "metadata": {},
   "source": [
    "But what happens if we reach the end of the alphabet? For example, if we shift\n",
    "`Z` by 4 positions, we would go past `Z`. To handle this, we can use the modulo\n",
    "operator `%` to wrap around the alphabet. The modulo operator gives the remainder\n",
    "of a division operation, which allows us to \"wrap around\" when we exceed the\n",
    "length of the alphabet. In the case of the Caesar cipher, we can use it to\n",
    "ensure that our shifted positions stay within the bounds of the\n",
    "alphabet.\n",
    "\n",
    "Therefore, we will use modulo 26 (the number of letters in the English alphabet)\n",
    "to ensure that our shifted positions wrap around correctly. For example, if we shift\n",
    "`Z` by 4 positions, we would end up at `D`. This wrapping behaviour is essential\n",
    "for the Caesar cipher to function correctly.  \n",
    "The calculation for the new position of a letter can be expressed as:\n",
    "\n",
    "$$\n",
    "x' = (x + n) \\mod 26\n",
    "$$\n",
    "\n",
    "or, in another notation:\n",
    "\n",
    "$$\n",
    "x' = x \\oplus_{26} n\n",
    "$$\n",
    "\n",
    "Let's implement this in Python:"
   ]
  },
  {
   "cell_type": "code",
   "execution_count": null,
   "metadata": {},
   "outputs": [],
   "source": [
    "def caesar_encrypt_mod(plain, shift):\n",
    "    cipher = \"\"\n",
    "    \n",
    "    for char in plain:\n",
    "        shifted = (ord(char) - ord('A') + shift) % 26 + ord('A')\n",
    "        cipher += chr(shifted)\n",
    "        \n",
    "    return cipher"
   ]
  },
  {
   "cell_type": "markdown",
   "metadata": {},
   "source": [
    "Because\n",
    "\n",
    "```python\n",
    "ord('A')\n",
    "```\n",
    "returns 65, we need to subtract 65 from the result of `ord('A')` to get\n",
    "0. This gives us the 0-based index of the letter in the alphabet, which\n",
    "is useful for our calculations. \n",
    "\n",
    "Hence the calculation shown above."
   ]
  },
  {
   "cell_type": "markdown",
   "metadata": {},
   "source": [
    "For the decryption, we can simply subtract the shift value instead of adding it:"
   ]
  },
  {
   "cell_type": "code",
   "execution_count": null,
   "metadata": {},
   "outputs": [],
   "source": [
    "def caesar_decrypt_mod(plain, shift):\n",
    "    cipher = \"\"\n",
    "    \n",
    "    for char in plain:\n",
    "        shifted = (ord(char) - ord('A') - shift) % 26 + ord('A')\n",
    "        cipher += chr(shifted)\n",
    "        \n",
    "    return cipher"
   ]
  },
  {
   "cell_type": "markdown",
   "metadata": {},
   "source": [
    "For convenience, we implement one function for both encryption and decryption."
   ]
  },
  {
   "cell_type": "code",
   "execution_count": null,
   "metadata": {},
   "outputs": [],
   "source": [
    "def caesar(text : str, shift : int, encrypt=True) -> str:\n",
    "    text = text.upper()\n",
    "    result = \"\"\n",
    "    \n",
    "    if encrypt:\n",
    "        for char in text:\n",
    "            shifted = (ord(char) - ord('A') + shift) % 26 + ord('A')\n",
    "            result += chr(shifted)\n",
    "    else:\n",
    "        for char in text:\n",
    "            shifted = (ord(char) - ord('A') - shift) % 26 + ord('A')\n",
    "            result += chr(shifted)\n",
    "            \n",
    "    return result"
   ]
  },
  {
   "cell_type": "markdown",
   "metadata": {},
   "source": [
    "## Breaking Caesar Cipher"
   ]
  },
  {
   "cell_type": "markdown",
   "metadata": {},
   "source": [
    "There are two main methods to break a Caesar cipher:\n",
    "1. Brute Force Attack: Try all possible shifts (1-25) and see which one\n",
    "   produces a meaningful result.\n",
    "2. Frequency Analysis: Analyse the frequency of letters in the ciphertext\n",
    "   and compare it to the expected frequency of letters in the language."
   ]
  },
  {
   "cell_type": "markdown",
   "metadata": {},
   "source": [
    "### Brute Force Attack"
   ]
  },
  {
   "cell_type": "code",
   "execution_count": null,
   "metadata": {},
   "outputs": [],
   "source": [
    "def caesar_bruteforce(ciphertext: str) -> None:\n",
    "    for shift in range(1, 26):\n",
    "        decrypted_text = caesar(ciphertext, shift, encrypt=False)\n",
    "        print(f\"Shift {shift}: {decrypted_text}\")"
   ]
  },
  {
   "cell_type": "markdown",
   "metadata": {},
   "source": [
    "### Frequency Analysis\n",
    "\n",
    "In the English language, certain letters appear more frequently than\n",
    "others. For example, the letter 'E' is the most common letter in English\n",
    "text, followed by 'T', 'A', 'O', 'I', and 'N'. By analysing the\n",
    "frequency of letters in the ciphertext, we can make educated guesses\n",
    "about which letters correspond to which in the plaintext. \n",
    "\n",
    "For a more accurate analysis, see the following frequency table:\n",
    "\n",
    "| Letter | Frequency |\n",
    "|--------|---:|\n",
    "| E      | 12.02%    |\n",
    "| T      | 9.10%     |\n",
    "| A      | 8.12%     |\n",
    "| O      | 7.68%     |\n",
    "| I      | 7.31%     |\n",
    "| N      | 6.95%     |\n",
    "| S      | 6.28%     |\n",
    "| R      | 6.02%     |\n",
    "| H      | 5.92%     |\n",
    "| D      | 4.32%     |\n",
    "| L      | 4.03%     |\n",
    "| C      | 2.78%     |\n",
    "| U      | 2.76%     |\n",
    "| M      | 2.41%     |\n",
    "| W      | 2.36%     |\n",
    "| F      | 2.23%     |\n",
    "| G      | 2.02%     |\n",
    "| Y      | 1.97%     |\n",
    "| P      | 1.93%     |\n",
    "| B      | 1.49%     |\n",
    "| V      | 0.98%     |\n",
    "| K      | 0.77%     |\n",
    "| J      | 0.15%     |\n",
    "| X      | 0.15%     |\n",
    "| Q      | 0.10%     |\n",
    "| Z      | 0.07%     |\n",
    "\n"
   ]
  },
  {
   "cell_type": "markdown",
   "metadata": {},
   "source": [
    "Therefore, we need a function that counts the frequency of each letter\n",
    "in the ciphertext. The result should be a dictionary where the keys are\n",
    "the letters and the values are the counts of each letter. Or even\n",
    "better, the frequencies in percent.\n",
    "\n",
    "To keep things simple, we assume that the input text only contains uppercase letters\n",
    "from `A` to `Z` and no spaces or punctuation."
   ]
  },
  {
   "cell_type": "code",
   "execution_count": 22,
   "metadata": {},
   "outputs": [],
   "source": [
    "def letter_frequency(text: str) -> dict:\n",
    "    frequency = {}\n",
    "    total_letters = 0\n",
    "    \n",
    "    for char in text:\n",
    "        if char not in frequency:\n",
    "            frequency[char] = 1\n",
    "        else:\n",
    "            frequency[char] += 1\n",
    "        total_letters += 1\n",
    "        \n",
    "    for key, value in frequency.items():\n",
    "        frequency[key] = (value / total_letters) * 100\n",
    "        \n",
    "           \n",
    "    return frequency"
   ]
  },
  {
   "cell_type": "markdown",
   "metadata": {},
   "source": [
    "After finding the most frequent letter in the ciphertext, we can assume that it corresponds to the letter 'E' in the plaintext. By calculating the shift needed to convert the most frequent letter to 'E', we can then decrypt the entire ciphertext using that shift value."
   ]
  },
  {
   "cell_type": "code",
   "execution_count": 24,
   "metadata": {},
   "outputs": [],
   "source": [
    "def find_shift(char: str, e = 'E') -> int:\n",
    "    return (ord(char) - ord(e)) % 26"
   ]
  },
  {
   "cell_type": "markdown",
   "metadata": {},
   "source": [
    "After guessing the shift, we can use our existing `caesar` function to\n",
    "decrypt the ciphertext. We can call the function with the encrypted text\n",
    "and the guessed shift value to obtain the original plaintext. \n",
    "\n",
    "If needed, the implementation of the `find_shift` function can exchange\n",
    "the default value for the most frequent letter to another letter."
   ]
  }
 ],
 "metadata": {
  "kernelspec": {
   "display_name": ".venv",
   "language": "python",
   "name": "python3"
  },
  "language_info": {
   "codemirror_mode": {
    "name": "ipython",
    "version": 3
   },
   "file_extension": ".py",
   "mimetype": "text/x-python",
   "name": "python",
   "nbconvert_exporter": "python",
   "pygments_lexer": "ipython3",
   "version": "3.13.5"
  }
 },
 "nbformat": 4,
 "nbformat_minor": 2
}
