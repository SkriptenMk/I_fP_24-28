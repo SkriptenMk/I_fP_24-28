{
 "cells": [
  {
   "cell_type": "markdown",
   "id": "e18d2594",
   "metadata": {},
   "source": [
    "# Vigenère Chiffre Implementation in Python"
   ]
  },
  {
   "cell_type": "markdown",
   "id": "d384340a",
   "metadata": {},
   "source": [
    "In diesem Notebook wird eine mögliche Implementierung der Vigenère Chiffre in Python vorgestellt."
   ]
  },
  {
   "cell_type": "code",
   "execution_count": null,
   "id": "c1fd7eb8",
   "metadata": {},
   "outputs": [],
   "source": [
    "def vigenere(text: str, key: str, mode: str) -> str:\n",
    "    \"\"\"Encrypts or decrypts a given text using the Vigenère cipher.\n",
    "\n",
    "    The function processes a string of uppercase alphabetic characters\n",
    "    using a provided key for encryption or decryption.\n",
    "\n",
    "    Args:\n",
    "        text: The string to be encrypted or decrypted. It should only contain\n",
    "              uppercase alphabetic characters (A-Z).\n",
    "        key: The key for the cipher. It should also only contain\n",
    "             uppercase alphabetic characters (A-Z).\n",
    "        mode: The operation to perform, must be 'encrypt' or 'decrypt'.\n",
    "\n",
    "    Returns:\n",
    "        The resulting ciphertext or plaintext.\n",
    "\n",
    "    Raises:\n",
    "        ValueError: If the mode is not 'encrypt' or 'decrypt'.\n",
    "    \"\"\"\n",
    "\n",
    "    # Ensure the mode is valid before proceeding.\n",
    "    if mode not in ['encrypt', 'decrypt']:\n",
    "        raise ValueError(\"Mode must be 'encrypt' or 'decrypt'\")\n",
    "    \n",
    "    key_length = len(key)\n",
    "    \n",
    "    if mode == 'encrypt':\n",
    "       cipher = ''\n",
    "       # Iterate through each character of the input text.\n",
    "       for i, char in enumerate(text):\n",
    "           # Convert the current text character and the corresponding key \n",
    "           # character to a number (0-25).\n",
    "           # The key character is determined using modulo to cycle through \n",
    "           # the key.\n",
    "           char_num = ord(char) - ord('A')\n",
    "           key_num = ord(key[i % key_length]) - ord('A')\n",
    "           \n",
    "           # Calculate the new character's number using the Vigenère encryption formula.\n",
    "           # The modulo operator ensures the result stays within the range 0-25.\n",
    "           cipher_num = (char_num + key_num) % 26\n",
    "           \n",
    "           # Convert the resulting number back to an uppercase character and append it.\n",
    "           cipher += chr(cipher_num + ord('A'))\n",
    "       return cipher  \n",
    "    else:  # mode == 'decrypt'\n",
    "        plain = ''\n",
    "        # Iterate through each character of the input text.\n",
    "        for i, char in enumerate(text):\n",
    "            # Convert the current text character and the corresponding key \n",
    "            # character to a number (0-25).\n",
    "            char_num = ord(char) - ord('A')\n",
    "            key_num = ord(key[i % key_length]) - ord('A')\n",
    "            \n",
    "            # Calculate the new character's number using the Vigenère \n",
    "            # decryption formula.\n",
    "            # The modulo operator handles negative results, ensuring the \n",
    "            # result is correct.\n",
    "            plain_num = (char_num - key_num) % 26\n",
    "            \n",
    "            # Convert the resulting number back to an uppercase \n",
    "            # character and append it.\n",
    "            plain += chr(plain_num + ord('A'))\n",
    "        return plain\n"
   ]
  },
  {
   "cell_type": "markdown",
   "id": "2f7cec52",
   "metadata": {},
   "source": [
    "Die Funktion `vigenere()` wird im Folgenden detailliert erklärt."
   ]
  },
  {
   "cell_type": "markdown",
   "id": "48041add",
   "metadata": {},
   "source": [
    "Die Signatur der Funktion\n",
    "\n",
    "```python\n",
    "def vigenere(text: str, key: str, mode: str) -> str:\n",
    "```\n",
    "\n",
    "zeigt, dass die Funktion drei Parameter erwartet:\n",
    "* `text`: Der zu verschlüsselnde oder zu entschlüsselnde Text als String.\n",
    "* `key`: Der Schlüssel zur Verschlüsselung oder Entschlüsselung als String.\n",
    "* `mode`: Der Modus, der angibt, ob der Text verschlüsselt oder\n",
    "  entschlüsselt werden soll. Mögliche Werte sind `'encrypt'` für\n",
    "  Verschlüsselung und `'decrypt'` für Entschlüsselung (dies ist\n",
    "  allerdings nicht direkt aus der Signatur ersichtlich)."
   ]
  },
  {
   "cell_type": "markdown",
   "id": "d913434c",
   "metadata": {},
   "source": [
    "Anschlissend an die Signatur folgt ein ausführlicher Docstring, der die\n",
    "Funktion und ihre Parameter beschreibt. Dieser ist - obwohl in Englisch\n",
    "abgefasst - aus sich selber heraus verständlich."
   ]
  },
  {
   "cell_type": "markdown",
   "id": "144ace10",
   "metadata": {},
   "source": [
    "Der Docstring wird gefolgt durch die Prüfung, ob zulässige Werte für den\n",
    "`mode`-Parameter übergeben wurden. Ist dies nicht der Fall, wird eine \n",
    "`ValueError`-Exception ausgelöst.\n",
    "\n",
    "```python\n",
    "if mode not in ['encrypt', 'decrypt']:\n",
    "    raise ValueError(\"Mode must be 'encrypt' or 'decrypt'\")\n",
    "```\n",
    "\n",
    "Um diese Prüfung durchufühhren, werden die zulässigen Werte in einer\n",
    "Liste zur Verfügung gestellt. Geprüft wird dann, ob der `mode`\n",
    "zugewiesene Wert in der Liste enthalten ist. Falls dies nicht der Fall\n",
    "ist, wird eine Fehlermeldung ausgegeben und die Ausführung der Funktion\n",
    "abgebrochen."
   ]
  },
  {
   "cell_type": "markdown",
   "id": "117e69d5",
   "metadata": {},
   "source": [
    "Sofern der `mode`-Parameter einen zulässigen Wert enthält, beginnt die\n",
    "eigentliche Funktionslogik zu spielen.\n",
    "\n",
    "Als erstes wird die Länge des Schlüssels in\n",
    "\n",
    "```python\n",
    "key_length = len(key)\n",
    "```\n",
    "\n",
    "der Variablen `key_length` zugewiesen. Diese Information wird weiter\n",
    "unten benötigt, um in einer besonderen Art von Schlaufe über den Text\n",
    "des Schlüssels zu iterieren."
   ]
  },
  {
   "cell_type": "markdown",
   "id": "8fd6c9cf",
   "metadata": {},
   "source": [
    "Nach dieser Zuweisung teilt sich die Funktion in die Zweige Ver- bzw.\n",
    "Entschlüsselung.\n",
    "\n",
    "Zuerst wird die Verschlüsselung - eingeleitet mit `if mode == 'encrypt':` -\n",
    "betrachtet."
   ]
  },
  {
   "cell_type": "markdown",
   "id": "7c9c5739",
   "metadata": {},
   "source": [
    "Innerhalb dieses Blocks wird als erstes ein leerer String `cipher`\n",
    "initialisiert, der später die verschlüsselten Zeichen aufnehmen wird. \n",
    "\n",
    "Anschliessend wird mit einer `for`-Schlaufe über den zu verschlüsselnden\n",
    "Text iteriert.\n",
    "\n",
    "```python\n",
    "for i, char in enumerate(text):\n",
    "```\n",
    "\n",
    "In dieser Schlaufe wird die Funktion `enumerate()` verwendet. Diese\n",
    "Funktion liefert ein Tupel aus Index und dem jweiligen Element der\n",
    "Struktur, über die iteriert wird. Die Werte des Tupels werden den \n",
    "Variablen `i` und `char` zugewiesen."
   ]
  },
  {
   "cell_type": "markdown",
   "id": "557c766b",
   "metadata": {},
   "source": [
    "Die Variabeln `i` und `char` werden innerhalb der Schlaufe verwendet, um\n",
    "die einzlenen Zeichen des Textes in eine Zahl umzuwandeln.\n",
    "\n",
    "```python\n",
    "    char_num = ord(char) - ord('A')\n",
    "    key_num = ord(key[i % key_length]) - ord('A')\n",
    "```\n",
    "\n",
    "Die Funktion `ord()` wandelt einen Buchstaben in die entsprechende Zahl\n",
    "aus der ASCII-Tabelle um. Damit die Zahlen im Bereich von 0 bis 25 liegen,\n",
    "wird der ASCII-Wert des Buchstabens 'A' abgezogen. Der Buchstabe 'A'\n",
    "wird verwendet, da die zu verschlüsselnden Zeichen in Grossbuchstaben\n",
    "vorgegeben sind.  \n",
    "Da der Schlüssel kürzer als der zu verschlüsselnde Text sein kann, wird\n",
    "mit `i % key_length` über den Schlüssel iteriert. Der Modulo-Operator\n",
    "`%` sorgt dafür, dass der Index Wert des verwendten Index immer zwischen\n",
    "0 und der Länge des Schlüssels `key_length` bleibt. Dadurch wird\n",
    "sichergestellt, dass der Schlüssel wieder von vorne begonnen wird,\n",
    "sobald das Ende des Schlüssels erreicht ist. Anschliessend wird mit den\n",
    "einzelnen Buchstaben des Schlüssels genauso verfahren wie mit den\n",
    "Buchstaben des Textes."
   ]
  },
  {
   "cell_type": "markdown",
   "id": "a27aea61",
   "metadata": {},
   "source": [
    "Nachdem die Buchstaben des Textes sowie des Schlüssels in Zahlen\n",
    "umgewandelt wurden, wird die eigentliche Verschlüsselung gemäss der\n",
    "Formel $C_i = (P_i + K_i)\\ mod\\ 26$ durchgeführt.\n",
    "\n",
    "```python\n",
    "    cipher_num = (char_num + key_num) % 26\n",
    "```"
   ]
  },
  {
   "cell_type": "markdown",
   "id": "c76d883e",
   "metadata": {},
   "source": [
    "Die Zahlenwerte des verschlüsselten Textes werden anschliessend wieder\n",
    "in Buchstaben umgewandelt und an den String `cipher` angehängt. Dazu\n",
    "wird die Funktion `chr()` verwendet, die eine Zahl in den entsprechenden\n",
    "Buchstaben der ASCII-Tabelle umwandelt. Da die Zahlenwerte im Bereich\n",
    "von 0 bis 25 liegen, wird der ASCII-Wert des Buchstabens 'A' addiert. \n",
    "\n",
    "```python\n",
    "    cipher += chr(cipher_num + ord('A'))\n",
    "```"
   ]
  },
  {
   "cell_type": "markdown",
   "id": "811972b4",
   "metadata": {},
   "source": [
    "Der unter `ciper` abgelegte String wird am Ende des Blocks\n",
    "zurückgegeben."
   ]
  },
  {
   "cell_type": "markdown",
   "id": "cd94ed38",
   "metadata": {},
   "source": [
    "Im zweiten Block wird die Entschlüsselung - eingeleitet mit `else:` -\n",
    "durchgeführt. Der Prozess ist dem der Verschlüsselung sehr ähnlich,\n",
    "jedoch wird hier die umgekehrte Formel  ($P_i = (C_i - K_i + 26)\\ mod\\\n",
    "26$) verwendet. \n",
    "\n",
    "```python\n",
    "    plain_num = (char_num - key_num + 26) % 26\n",
    "    plain += chr(plain_num + ord('A'))\n",
    "```\n",
    "\n",
    "Alles andere entspricht dem Vorgehen bei der Verschlüsselung."
   ]
  }
 ],
 "metadata": {
  "kernelspec": {
   "display_name": ".venv",
   "language": "python",
   "name": "python3"
  },
  "language_info": {
   "codemirror_mode": {
    "name": "ipython",
    "version": 3
   },
   "file_extension": ".py",
   "mimetype": "text/x-python",
   "name": "python",
   "nbconvert_exporter": "python",
   "pygments_lexer": "ipython3",
   "version": "3.13.5"
  }
 },
 "nbformat": 4,
 "nbformat_minor": 5
}
