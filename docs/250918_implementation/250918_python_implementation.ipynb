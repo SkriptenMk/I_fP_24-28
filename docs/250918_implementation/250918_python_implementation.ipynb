{
 "cells": [
  {
   "cell_type": "markdown",
   "id": "e18d2594",
   "metadata": {},
   "source": [
    "# Vigenère Chiffre Implementation in Python"
   ]
  },
  {
   "cell_type": "markdown",
   "id": "d384340a",
   "metadata": {},
   "source": [
    "In diesem Notebook wird eine mögliche Implementierung der Vigenère Chiffre in Python vorgestellt."
   ]
  },
  {
   "cell_type": "code",
   "execution_count": 1,
   "id": "515e8af8",
   "metadata": {},
   "outputs": [],
   "source": [
    "def vigenere(plain : str, key : str, mode : str) -> str:\n",
    "    \n",
    "    if mode not in ['encrypt', 'decrypt']:\n",
    "        raise ValueError(\"Mode must be 'encrypt' or 'decrypt'\")\n",
    "    \n",
    "    key_length = len(key)\n",
    "    \n",
    "    if mode == 'encrypt':\n",
    "       cipher = ''\n",
    "       for i, char in enumerate(plain):\n",
    "           char_num   = ord(char) - ord('A')\n",
    "           key_num    = ord(key[i % key_length]) - ord('A')\n",
    "           cipher_num = (char_num + key_num) % 26\n",
    "           cipher    += chr(cipher_num + ord('A'))\n",
    "       return cipher  \n",
    "    else: # mode == 'decrypt'\n",
    "        plain = ''\n",
    "        for i, char in enumerate(plain):\n",
    "            char_num   = ord(char) - ord('A')\n",
    "            key_num    = ord(key[i % key_length]) - ord('A')\n",
    "            plain_num  = (char_num - key_num) % 26\n",
    "            plain     += chr(plain_num + ord('A'))\n",
    "        "
   ]
  },
  {
   "cell_type": "code",
   "execution_count": 2,
   "id": "b84e8ead",
   "metadata": {},
   "outputs": [
    {
     "ename": "FileNotFoundError",
     "evalue": "[Errno 2] No such file or directory: 'Mann_1989_Der Zauberberg - Roman.pdf'",
     "output_type": "error",
     "traceback": [
      "\u001b[1;31m---------------------------------------------------------------------------\u001b[0m",
      "\u001b[1;31mFileNotFoundError\u001b[0m                         Traceback (most recent call last)",
      "Cell \u001b[1;32mIn[2], line 6\u001b[0m\n\u001b[0;32m      4\u001b[0m \u001b[38;5;28;01mimport\u001b[39;00m \u001b[38;5;21;01mmatplotlib\u001b[39;00m\u001b[38;5;21;01m.\u001b[39;00m\u001b[38;5;21;01mpyplot\u001b[39;00m \u001b[38;5;28;01mas\u001b[39;00m \u001b[38;5;21;01mplt\u001b[39;00m\n\u001b[0;32m      5\u001b[0m \u001b[38;5;28;01mimport\u001b[39;00m \u001b[38;5;21;01mnumpy\u001b[39;00m \u001b[38;5;28;01mas\u001b[39;00m \u001b[38;5;21;01mnp\u001b[39;00m\n\u001b[1;32m----> 6\u001b[0m \u001b[38;5;28;01mwith\u001b[39;00m \u001b[43mpdfplumber\u001b[49m\u001b[38;5;241;43m.\u001b[39;49m\u001b[43mopen\u001b[49m\u001b[43m(\u001b[49m\u001b[38;5;124;43m\"\u001b[39;49m\u001b[38;5;124;43mMann_1989_Der Zauberberg - Roman.pdf\u001b[39;49m\u001b[38;5;124;43m\"\u001b[39;49m\u001b[43m)\u001b[49m \u001b[38;5;28;01mas\u001b[39;00m pdf:\n\u001b[0;32m      7\u001b[0m     pages \u001b[38;5;241m=\u001b[39m pdf\u001b[38;5;241m.\u001b[39mpages\n\u001b[0;32m      8\u001b[0m     text \u001b[38;5;241m=\u001b[39m \u001b[38;5;124m\"\u001b[39m\u001b[38;5;124m\"\u001b[39m\n",
      "File \u001b[1;32mc:\\Users\\jcms\\Documents\\Skripten\\I_fP_24-28\\.venv\\Lib\\site-packages\\pdfplumber\\pdf.py:98\u001b[0m, in \u001b[0;36mPDF.open\u001b[1;34m(cls, path_or_fp, pages, laparams, password, strict_metadata, unicode_norm, repair, gs_path, repair_setting, raise_unicode_errors)\u001b[0m\n\u001b[0;32m     96\u001b[0m     path \u001b[38;5;241m=\u001b[39m \u001b[38;5;28;01mNone\u001b[39;00m\n\u001b[0;32m     97\u001b[0m \u001b[38;5;28;01melif\u001b[39;00m \u001b[38;5;28misinstance\u001b[39m(path_or_fp, (\u001b[38;5;28mstr\u001b[39m, pathlib\u001b[38;5;241m.\u001b[39mPath)):\n\u001b[1;32m---> 98\u001b[0m     stream \u001b[38;5;241m=\u001b[39m \u001b[38;5;28;43mopen\u001b[39;49m\u001b[43m(\u001b[49m\u001b[43mpath_or_fp\u001b[49m\u001b[43m,\u001b[49m\u001b[43m \u001b[49m\u001b[38;5;124;43m\"\u001b[39;49m\u001b[38;5;124;43mrb\u001b[39;49m\u001b[38;5;124;43m\"\u001b[39;49m\u001b[43m)\u001b[49m\n\u001b[0;32m     99\u001b[0m     stream_is_external \u001b[38;5;241m=\u001b[39m \u001b[38;5;28;01mFalse\u001b[39;00m\n\u001b[0;32m    100\u001b[0m     path \u001b[38;5;241m=\u001b[39m pathlib\u001b[38;5;241m.\u001b[39mPath(path_or_fp)\n",
      "\u001b[1;31mFileNotFoundError\u001b[0m: [Errno 2] No such file or directory: 'Mann_1989_Der Zauberberg - Roman.pdf'"
     ]
    }
   ],
   "source": [
    "import pdfplumber\n",
    "import string\n",
    "import pandas as pd\n",
    "import matplotlib.pyplot as plt\n",
    "import numpy as np\n",
    "with pdfplumber.open(\"Mann_1989_Der Zauberberg - Roman.pdf\") as pdf:\n",
    "    pages = pdf.pages\n",
    "    text = \"\"\n",
    "    for i, pg in enumerate(pages):\n",
    "        if i >= 23 and i < 42:\n",
    "            text += pages[i].extract_text() + \"\\n\"\n",
    "def text_cleaning(text : str) -> str:\n",
    "    clean = text.upper() \\\n",
    "                .replace('Ä', 'AE') \\\n",
    "                .replace('Ö', 'OE') \\\n",
    "                .replace('Ü', 'UE') \\\n",
    "                .replace('ß', 'SS') \\\n",
    "                .replace(' ', '') \\\n",
    "\n",
    "    cleaned_text = ''\n",
    "\n",
    "    for c in clean:\n",
    "        if c.isalpha():\n",
    "            cleaned_text += c\n",
    "    \n",
    "    return cleaned_text"
   ]
  },
  {
   "cell_type": "code",
   "execution_count": null,
   "id": "0150b04e",
   "metadata": {},
   "outputs": [],
   "source": []
  }
 ],
 "metadata": {
  "kernelspec": {
   "display_name": ".venv",
   "language": "python",
   "name": "python3"
  },
  "language_info": {
   "codemirror_mode": {
    "name": "ipython",
    "version": 3
   },
   "file_extension": ".py",
   "mimetype": "text/x-python",
   "name": "python",
   "nbconvert_exporter": "python",
   "pygments_lexer": "ipython3",
   "version": "3.13.5"
  }
 },
 "nbformat": 4,
 "nbformat_minor": 5
}
