{
 "cells": [
  {
   "cell_type": "markdown",
   "id": "e18d2594",
   "metadata": {},
   "source": [
    "# Vigenère Chiffre Implementation in Python"
   ]
  },
  {
   "cell_type": "markdown",
   "id": "d384340a",
   "metadata": {},
   "source": [
    "In diesem Notebook wird eine mögliche Implementierung der Vigenère Chiffre in Python vorgestellt."
   ]
  },
  {
   "cell_type": "code",
   "execution_count": null,
   "id": "c1fd7eb8",
   "metadata": {},
   "outputs": [],
   "source": [
    "def vigenere(text: str, key: str, mode: str) -> str:\n",
    "    \"\"\"Encrypts or decrypts a given text using the Vigenère cipher.\n",
    "\n",
    "    The function processes a string of uppercase alphabetic characters\n",
    "    using a provided key for encryption or decryption.\n",
    "\n",
    "    Args:\n",
    "        text: The string to be encrypted or decrypted. It should only contain\n",
    "              uppercase alphabetic characters (A-Z).\n",
    "        key: The key for the cipher. It should also only contain\n",
    "             uppercase alphabetic characters (A-Z).\n",
    "        mode: The operation to perform, must be 'encrypt' or 'decrypt'.\n",
    "\n",
    "    Returns:\n",
    "        The resulting ciphertext or plaintext.\n",
    "\n",
    "    Raises:\n",
    "        ValueError: If the mode is not 'encrypt' or 'decrypt'.\n",
    "    \"\"\"\n",
    "\n",
    "    # Ensure the mode is valid before proceeding.\n",
    "    if mode not in ['encrypt', 'decrypt']:\n",
    "        raise ValueError(\"Mode must be 'encrypt' or 'decrypt'\")\n",
    "    \n",
    "    key_length = len(key)\n",
    "    \n",
    "    if mode == 'encrypt':\n",
    "       cipher = ''\n",
    "       # Iterate through each character of the input text.\n",
    "       for i, char in enumerate(text):\n",
    "           # Convert the current text character and the corresponding key character to a number (0-25).\n",
    "           # The key character is determined using modulo to cycle through the key.\n",
    "           char_num = ord(char) - ord('A')\n",
    "           key_num = ord(key[i % key_length]) - ord('A')\n",
    "           \n",
    "           # Calculate the new character's number using the Vigenère encryption formula.\n",
    "           # The modulo operator ensures the result stays within the range 0-25.\n",
    "           cipher_num = (char_num + key_num) % 26\n",
    "           \n",
    "           # Convert the resulting number back to an uppercase character and append it.\n",
    "           cipher += chr(cipher_num + ord('A'))\n",
    "       return cipher  \n",
    "    else:  # mode == 'decrypt'\n",
    "        plain = ''\n",
    "        # Iterate through each character of the input text.\n",
    "        for i, char in enumerate(text):\n",
    "            # Convert the current text character and the corresponding key character to a number (0-25).\n",
    "            char_num = ord(char) - ord('A')\n",
    "            key_num = ord(key[i % key_length]) - ord('A')\n",
    "            \n",
    "            # Calculate the new character's number using the Vigenère decryption formula.\n",
    "            # The modulo operator handles negative results, ensuring the result is correct.\n",
    "            plain_num = (char_num - key_num) % 26\n",
    "            \n",
    "            # Convert the resulting number back to an uppercase character and append it.\n",
    "            plain += chr(plain_num + ord('A'))\n",
    "        return plain\n"
   ]
  },
  {
   "cell_type": "markdown",
   "id": "2f7cec52",
   "metadata": {},
   "source": [
    "Die Funktion `vigenere()` wird im Folgenden detailliert erklärt."
   ]
  },
  {
   "cell_type": "markdown",
   "id": "48041add",
   "metadata": {},
   "source": [
    "Die Signatur der Funktion\n",
    "\n",
    "```python\n",
    "def vigenere(text: str, key: str, mode: str) -> str:\n",
    "```\n",
    "\n",
    "zeigt, dass die Funktion drei Parameter erwartet:\n",
    "* `text`: Der zu verschlüsselnde oder zu entschlüsselnde Text als String.\n",
    "* `key`: Der Schlüssel zur Verschlüsselung oder Entschlüsselung als String.\n",
    "* `mode`: Der Modus, der angibt, ob der Text verschlüsselt oder\n",
    "  entschlüsselt werden soll. Mögliche Werte sind `'encrypt'` für\n",
    "  Verschlüsselung und `'decrypt'` für Entschlüsselung (dies ist\n",
    "  allerdings nicht direkt aus der Signatur ersichtlich)."
   ]
  },
  {
   "cell_type": "code",
   "execution_count": 2,
   "id": "b84e8ead",
   "metadata": {},
   "outputs": [],
   "source": [
    "import pdfplumber\n",
    "import string\n",
    "import pandas as pd\n",
    "import matplotlib.pyplot as plt\n",
    "import numpy as np\n",
    "with open(\"text.txt\", mode='r', encoding='utf-8') as f:\n",
    "    text = f.read()\n",
    "    \n",
    "def text_cleaning(text : str) -> str:\n",
    "    clean = text.upper() \\\n",
    "                .replace('Ä', 'AE') \\\n",
    "                .replace('Ö', 'OE') \\\n",
    "                .replace('Ü', 'UE') \\\n",
    "                .replace('ß', 'SS') \\\n",
    "                .replace(' ', '') \\\n",
    "\n",
    "    cleaned_text = ''\n",
    "\n",
    "    for c in clean:\n",
    "        if c.isalpha():\n",
    "            cleaned_text += c\n",
    "    \n",
    "    return cleaned_text\n",
    "\n",
    "plain = text_cleaning(text)"
   ]
  },
  {
   "cell_type": "markdown",
   "id": "053e05e9",
   "metadata": {},
   "source": []
  }
 ],
 "metadata": {
  "kernelspec": {
   "display_name": ".venv",
   "language": "python",
   "name": "python3"
  },
  "language_info": {
   "codemirror_mode": {
    "name": "ipython",
    "version": 3
   },
   "file_extension": ".py",
   "mimetype": "text/x-python",
   "name": "python",
   "nbconvert_exporter": "python",
   "pygments_lexer": "ipython3",
   "version": "3.13.5"
  }
 },
 "nbformat": 4,
 "nbformat_minor": 5
}
