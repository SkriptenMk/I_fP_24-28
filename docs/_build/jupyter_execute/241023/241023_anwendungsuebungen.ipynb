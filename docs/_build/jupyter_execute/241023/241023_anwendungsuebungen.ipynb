{
 "cells": [
  {
   "cell_type": "markdown",
   "metadata": {
    "id": "aTcMpBZwvURY"
   },
   "source": [
    "# Anwendungsübungen zur Prüfungsvorbereitung"
   ]
  },
  {
   "cell_type": "markdown",
   "metadata": {
    "id": "gfD5ChbkvdcT"
   },
   "source": [
    "## Variabeln"
   ]
  },
  {
   "cell_type": "markdown",
   "metadata": {
    "id": "BTVZj8y3vhjV"
   },
   "source": [
    "\n",
    "Welchen Wert weist die Variabel `x` nach den jeweiligen Operationen auf?\n"
   ]
  },
  {
   "cell_type": "code",
   "execution_count": 1,
   "metadata": {
    "id": "vUDog9aJvFD4"
   },
   "outputs": [],
   "source": [
    "x = 2 * 3"
   ]
  },
  {
   "cell_type": "code",
   "execution_count": 2,
   "metadata": {
    "id": "5LNmV_LOv7Vl"
   },
   "outputs": [],
   "source": [
    "a = 5\n",
    "b = 2\n",
    "x = b / a"
   ]
  },
  {
   "cell_type": "code",
   "execution_count": 3,
   "metadata": {
    "id": "zsHQwoTcwDlL"
   },
   "outputs": [],
   "source": [
    "a = 3\n",
    "b = 7\n",
    "x = a\n",
    "a = a + b"
   ]
  },
  {
   "cell_type": "markdown",
   "metadata": {
    "id": "8P2KuTOHwjHe"
   },
   "source": [
    "## Datentypen"
   ]
  },
  {
   "cell_type": "markdown",
   "metadata": {
    "id": "STP661TrwlnK"
   },
   "source": [
    "Der Variabel `y` werden unten verschiedene Daten zugewiesen. Um welchen Datentypen handelt es sich dabei jeweils?"
   ]
  },
  {
   "cell_type": "code",
   "execution_count": 4,
   "metadata": {
    "id": "h8yMhM_lwP8P"
   },
   "outputs": [],
   "source": [
    "y = 2"
   ]
  },
  {
   "cell_type": "code",
   "execution_count": 5,
   "metadata": {
    "id": "epClAvijw0xP"
   },
   "outputs": [],
   "source": [
    "y = \"Hello World!\""
   ]
  },
  {
   "cell_type": "code",
   "execution_count": 6,
   "metadata": {
    "id": "kZrJ8WlOw39u"
   },
   "outputs": [],
   "source": [
    "y = 2.5"
   ]
  },
  {
   "cell_type": "code",
   "execution_count": 7,
   "metadata": {
    "id": "s5IpKwWCw7tX"
   },
   "outputs": [],
   "source": [
    "y = 3/2"
   ]
  },
  {
   "cell_type": "code",
   "execution_count": 8,
   "metadata": {
    "id": "zhuMKqEVxDfs"
   },
   "outputs": [],
   "source": [
    "y = True"
   ]
  },
  {
   "cell_type": "code",
   "execution_count": 9,
   "metadata": {
    "id": "8Qz7MnlPxGV_"
   },
   "outputs": [],
   "source": [
    "y = None"
   ]
  },
  {
   "cell_type": "markdown",
   "metadata": {
    "id": "Y0PTe3iTxLXi"
   },
   "source": [
    "Sie können Ihre Antwort mit\n",
    "\n",
    "```python\n",
    "type(y)\n",
    "```\n",
    "\n",
    "überprüfen."
   ]
  },
  {
   "cell_type": "markdown",
   "metadata": {
    "id": "3osrKeSAl5o7"
   },
   "source": [
    "## Schlaufen"
   ]
  },
  {
   "cell_type": "markdown",
   "metadata": {
    "id": "qWLPbv13mYoO"
   },
   "source": [
    "Schreiben Sie eine Schlaufe welche die Zahlen von 1 (inklusive) bis 10 (inklusive) ausgibt."
   ]
  },
  {
   "cell_type": "code",
   "execution_count": 10,
   "metadata": {
    "id": "PkD0UnJEmjpm"
   },
   "outputs": [],
   "source": [
    "# implementieren Sie hier die Schlaufe"
   ]
  },
  {
   "cell_type": "markdown",
   "metadata": {
    "id": "5LJkUVxbl9HQ"
   },
   "source": [
    "Schreiben Sie eine Schlaufe, welche die geraden Zahlen von 20 (inklusive) bis 0 (inklusive) ausgibt."
   ]
  },
  {
   "cell_type": "code",
   "execution_count": 11,
   "metadata": {
    "id": "B_RgER9KmO_c"
   },
   "outputs": [],
   "source": [
    "# implementieren Sie hier die Schlaufe"
   ]
  },
  {
   "cell_type": "markdown",
   "metadata": {
    "id": "qC1-t82_hSsm"
   },
   "source": [
    "## Funktionen"
   ]
  },
  {
   "cell_type": "markdown",
   "metadata": {
    "id": "D9aCGm2QhWF_"
   },
   "source": [
    "In den folgenden Zellen sollen Sie Funktionen programmieren."
   ]
  },
  {
   "cell_type": "markdown",
   "metadata": {
    "id": "y1vBbMOVhe9K"
   },
   "source": [
    "### Kreisfläche\n",
    "\n",
    "Implementieren Sie eine Funktion, welche aus dem Radius $r$ mit der Formel\n",
    "\n",
    "$$A = \\pi \\cdot r^2$$\n",
    "\n",
    "wobei gilt\n",
    "\n",
    "* $A =$ Fläche,\n",
    "* $\\pi =$ 3.14,\n",
    "* $r =$ Radius\n",
    "\n",
    "berechnet"
   ]
  },
  {
   "cell_type": "code",
   "execution_count": 12,
   "metadata": {
    "id": "JT5WadBEhJUH"
   },
   "outputs": [],
   "source": [
    "# implementieren Sie hier den Code zur Berechnung der Kreisfläche"
   ]
  },
  {
   "cell_type": "markdown",
   "metadata": {
    "id": "nc_OynyEib-B"
   },
   "source": [
    "## Trapezfläche\n",
    "\n",
    "Implementieren Sie eine Funktion, welche aus den Seiten $a$ und $c$ sowie der Höhe $h$ eines Trapzes mit untenstehender Formel die Fläche $A$ berechnet.\n",
    "\n",
    "$$A = \\frac{a+c}{2} \\cdot h$$\n",
    "\n",
    "Die Bedeutung der einzelnen Variabeln entenhemen Sie untenstehender Skizze."
   ]
  },
  {
   "cell_type": "markdown",
   "metadata": {
    "id": "Ufs86Aqgk92_"
   },
   "source": [
    "<img alt=\"\" src=\"data:image/svg+xml;base64,PD94bWwgdmVyc2lvbj0nMS4wJyBlbmNvZGluZz0nVVRGLTgnPz4NCjwhLS0gVGhpcyBmaWxlIHdhcyBnZW5lcmF0ZWQgYnkgZHZpc3ZnbSAzLjIuMiAtLT4NCjxzdmcgdmVyc2lvbj0nMS4xJyB4bWxucz0naHR0cDovL3d3dy53My5vcmcvMjAwMC9zdmcnIHhtbG5zOnhsaW5rPSdodHRwOi8vd3d3LnczLm9yZy8xOTk5L3hsaW5rJyB3aWR0aD0nMTcwLjQ4MDI0M3B0JyBoZWlnaHQ9JzEwMC42NTg5NjhwdCcgdmlld0JveD0nLTYyLjAzOTA5MyAtNTguNzE3OTU3IDE3MC40ODAyNDMgMTAwLjY1ODk2OCc+DQo8ZGVmcz4NCjxwYXRoIGlkPSdnMC05NycgZD0nTTMuMzE3NTU5LS43NTcxNjFDMy4zNTc0MS0uMzU4NjU1IDMuNjI2NDAxIC4wNTk3NzYgNC4wOTQ2NDUgLjA1OTc3NkM0LjMwMzg2MSAuMDU5Nzc2IDQuOTExNTgyLS4wNzk3MDEgNC45MTE1ODItLjg4NjY3NVYtMS40NDQ1ODNINC42NjI1MTZWLS44ODY2NzVDNC42NjI1MTYtLjMwODg0MiA0LjQxMzQ1LS4yNDkwNjYgNC4zMDM4NjEtLjI0OTA2NkMzLjk3NTA5My0uMjQ5MDY2IDMuOTM1MjQzLS42OTczODUgMy45MzUyNDMtLjc0NzE5OFYtMi43Mzk3MjZDMy45MzUyNDMtMy4xNTgxNTcgMy45MzUyNDMtMy41NDY3IDMuNTc2NTg4LTMuOTE1MzE4QzMuMTg4MDQ1LTQuMzAzODYxIDIuNjg5OTEzLTQuNDYzMjYzIDIuMjExNzA2LTQuNDYzMjYzQzEuMzk0NzctNC40NjMyNjMgLjcwNzM0Ny0zLjk5NTAxOSAuNzA3MzQ3LTMuMzM3NDg0Qy43MDczNDctMy4wMzg2MDUgLjkwNjYtMi44NjkyNCAxLjE2NTYyOS0yLjg2OTI0QzEuNDQ0NTgzLTIuODY5MjQgMS42MjM5MS0zLjA2ODQ5MyAxLjYyMzkxLTMuMzI3NTIyQzEuNjIzOTEtMy40NDcwNzMgMS41NzQwOTctMy43NzU4NDEgMS4xMTU4MTYtMy43ODU4MDNDMS4zODQ4MDctNC4xMzQ0OTYgMS44NzI5NzYtNC4yNDQwODUgMi4xOTE3ODEtNC4yNDQwODVDMi42Nzk5NS00LjI0NDA4NSAzLjI0NzgyMS0zLjg1NTU0MiAzLjI0NzgyMS0yLjk2ODg2N1YtMi42MDAyNDlDMi43Mzk3MjYtMi41NzAzNjEgMi4wNDIzNDEtMi41NDA0NzMgMS40MTQ2OTUtMi4yNDE1OTRDLjY2NzQ5Ny0xLjkwMjg2NCAuNDE4NDMxLTEuMzg0ODA3IC40MTg0MzEtLjk0NjQ1MUMuNDE4NDMxLS4xMzk0NzcgMS4zODQ4MDcgLjEwOTU4OSAyLjAxMjQ1MyAuMTA5NTg5QzIuNjY5OTg4IC4xMDk1ODkgMy4xMjgyNjktLjI4ODkxNyAzLjMxNzU1OS0uNzU3MTYxWk0zLjI0NzgyMS0yLjM5MTAzNFYtMS4zOTQ3N0MzLjI0NzgyMS0uNDQ4MzE5IDIuNTMwNTExLS4xMDk1ODkgMi4wODIxOTItLjEwOTU4OUMxLjU5NDAyMi0uMTA5NTg5IDEuMTg1NTU0LS40NTgyODEgMS4xODU1NTQtLjk1NjQxM0MxLjE4NTU1NC0xLjUwNDM1OSAxLjYwMzk4NS0yLjMzMTI1OCAzLjI0NzgyMS0yLjM5MTAzNFonLz4NCjxwYXRoIGlkPSdnMC05OCcgZD0nTTEuNzEzNTc0LTMuNzU1OTE1Vi02LjkxNDA3MkwuMjc4OTU0LTYuODA0NDgzVi02LjQ5NTY0MUMuOTc2MzM5LTYuNDk1NjQxIDEuMDU2MDQtNi40MjU5MDMgMS4wNTYwNC01LjkzNzczM1YwSDEuMzA1MTA2QzEuMzE1MDY4LS4wMDk5NjMgMS4zOTQ3Ny0uMTQ5NDQgMS42NjM3NjEtLjYxNzY4NEMxLjgxMzItLjM4ODU0MyAyLjIzMTYzMSAuMTA5NTg5IDIuOTY4ODY3IC4xMDk1ODlDNC4xNTQ0MjEgLjEwOTU4OSA1LjE5MDUzNS0uODY2NzUgNS4xOTA1MzUtMi4xNTE5M0M1LjE5MDUzNS0zLjQxNzE4NiA0LjIxNDE5Ny00LjQwMzQ4NyAzLjA3ODQ1Ni00LjQwMzQ4N0MyLjMwMTM3LTQuNDAzNDg3IDEuODcyOTc2LTMuOTM1MjQzIDEuNzEzNTc0LTMuNzU1OTE1Wk0xLjc0MzQ2Mi0xLjEzNTc0MVYtMy4xODgwNDVDMS43NDM0NjItMy4zNzczMzUgMS43NDM0NjItMy4zODcyOTggMS44NTMwNTEtMy41NDY3QzIuMjQxNTk0LTQuMTA0NjA4IDIuNzg5NTM5LTQuMTg0MzA5IDMuMDI4NjQzLTQuMTg0MzA5QzMuNDc2OTYxLTQuMTg0MzA5IDMuODM1NjE2LTMuOTI1MjggNC4wNzQ3Mi0zLjU0NjdDNC4zMzM3NDgtMy4xMzgyMzIgNC4zNjM2MzYtMi41NzAzNjEgNC4zNjM2MzYtMi4xNjE4OTNDNC4zNjM2MzYtMS43OTMyNzUgNC4zNDM3MTEtMS4xOTU1MTcgNC4wNTQ3OTUtLjc0NzE5OEMzLjg0NTU3OS0uNDM4MzU2IDMuNDY2OTk5LS4xMDk1ODkgMi45MjkwMTYtLjEwOTU4OUMyLjQ4MDY5Ny0uMTA5NTg5IDIuMTIyMDQyLS4zNDg2OTIgMS44ODI5MzktLjcxNzMxQzEuNzQzNDYyLS45MjY1MjYgMS43NDM0NjItLjk1NjQxMyAxLjc0MzQ2Mi0xLjEzNTc0MVonLz4NCjxwYXRoIGlkPSdnMC05OScgZD0nTTEuMTY1NjI5LTIuMTcxODU2QzEuMTY1NjI5LTMuNzk1NzY2IDEuOTgyNTY1LTQuMjE0MTk3IDIuNTEwNTg1LTQuMjE0MTk3QzIuNjAwMjQ5LTQuMjE0MTk3IDMuMjI3ODk1LTQuMjA0MjM0IDMuNTc2NTg4LTMuODQ1NTc5QzMuMTY4MTItMy44MTU2OTEgMy4xMDgzNDQtMy41MTY4MTIgMy4xMDgzNDQtMy4zODcyOThDMy4xMDgzNDQtMy4xMjgyNjkgMy4yODc2NzEtMi45MjkwMTYgMy41NjY2MjUtMi45MjkwMTZDMy44MjU2NTQtMi45MjkwMTYgNC4wMjQ5MDctMy4wOTgzODEgNC4wMjQ5MDctMy4zOTcyNkM0LjAyNDkwNy00LjA3NDcyIDMuMjY3NzQ2LTQuNDYzMjYzIDIuNTAwNjIzLTQuNDYzMjYzQzEuMjU1MjkzLTQuNDYzMjYzIC4zMzg3My0zLjM4NzI5OCAuMzM4NzMtMi4xNTE5M0MuMzM4NzMtLjg3NjcxMiAxLjMyNTAzMSAuMTA5NTg5IDIuNDgwNjk3IC4xMDk1ODlDMy44MTU2OTEgLjEwOTU4OSA0LjEzNDQ5Ni0xLjA4NTkyOCA0LjEzNDQ5Ni0xLjE4NTU1NFM0LjAzNDg2OS0xLjI4NTE4MSA0LjAwNDk4MS0xLjI4NTE4MUMzLjkxNTMxOC0xLjI4NTE4MSAzLjg5NTM5Mi0xLjI0NTMzIDMuODc1NDY3LTEuMTg1NTU0QzMuNTg2NTUtLjI1OTAyOSAyLjkzODk3OS0uMTM5NDc3IDIuNTcwMzYxLS4xMzk0NzdDMi4wNDIzNDEtLjEzOTQ3NyAxLjE2NTYyOS0uNTY3ODcgMS4xNjU2MjktMi4xNzE4NTZaJy8+DQo8cGF0aCBpZD0nZzAtMTAwJyBkPSdNMy43ODU4MDMtLjU0Nzk0NVYuMTA5NTg5TDUuMjUwMzExIDBWLS4zMDg4NDJDNC41NTI5MjctLjMwODg0MiA0LjQ3MzIyNS0uMzc4NTggNC40NzMyMjUtLjg2Njc1Vi02LjkxNDA3MkwzLjAzODYwNS02LjgwNDQ4M1YtNi40OTU2NDFDMy43MzU5OS02LjQ5NTY0MSAzLjgxNTY5MS02LjQyNTkwMyAzLjgxNTY5MS01LjkzNzczM1YtMy43ODU4MDNDMy41MjY3NzUtNC4xNDQ0NTggMy4wOTgzODEtNC40MDM0ODcgMi41NjAzOTktNC40MDM0ODdDMS4zODQ4MDctNC40MDM0ODcgLjMzODczLTMuNDI3MTQ4IC4zMzg3My0yLjE0MTk2OEMuMzM4NzMtLjg3NjcxMiAxLjMxNTA2OCAuMTA5NTg5IDIuNDUwODA5IC4xMDk1ODlDMy4wODg0MTggLjEwOTU4OSAzLjUzNjczNy0uMjI5MTQxIDMuNzg1ODAzLS41NDc5NDVaTTMuNzg1ODAzLTMuMjE3OTMzVi0xLjE3NTU5MkMzLjc4NTgwMy0uOTk2MjY0IDMuNzg1ODAzLS45NzYzMzkgMy42NzYyMTQtLjgwNjk3NEMzLjM3NzMzNS0uMzI4NzY3IDIuOTI5MDE2LS4xMDk1ODkgMi41MDA2MjMtLjEwOTU4OUMyLjA1MjMwNC0uMTA5NTg5IDEuNjkzNjQ5LS4zNjg2MTggMS40NTQ1NDUtLjc0NzE5OEMxLjE5NTUxNy0xLjE1NTY2NiAxLjE2NTYyOS0xLjcyMzUzNyAxLjE2NTYyOS0yLjEzMjAwNUMxLjE2NTYyOS0yLjUwMDYyMyAxLjE4NTU1NC0zLjA5ODM4MSAxLjQ3NDQ3MS0zLjU0NjdDMS42ODM2ODYtMy44NTU1NDIgMi4wNjIyNjctNC4xODQzMDkgMi42MDAyNDktNC4xODQzMDlDMi45NDg5NDEtNC4xODQzMDkgMy4zNjczNzItNC4wMzQ4NjkgMy42NzYyMTQtMy41ODY1NUMzLjc4NTgwMy0zLjQxNzE4NiAzLjc4NTgwMy0zLjM5NzI2IDMuNzg1ODAzLTMuMjE3OTMzWicvPg0KPHBhdGggaWQ9J2cwLTEwNCcgZD0nTTEuMDk1ODktLjc1NzE2MUMxLjA5NTg5LS4zMDg4NDIgLjk4NjMwMS0uMzA4ODQyIC4zMTg4MDQtLjMwODg0MlYwQy42Njc0OTctLjAwOTk2MyAxLjE3NTU5Mi0uMDI5ODg4IDEuNDQ0NTgzLS4wMjk4ODhDMS43MDM2MTEtLjAyOTg4OCAyLjIyMTY2OS0uMDA5OTYzIDIuNTYwMzk5IDBWLS4zMDg4NDJDMS44OTI5MDItLjMwODg0MiAxLjc4MzMxMy0uMzA4ODQyIDEuNzgzMzEzLS43NTcxNjFWLTIuNTkwMjg2QzEuNzgzMzEzLTMuNjI2NDAxIDIuNDkwNjYtNC4xODQzMDkgMy4xMjgyNjktNC4xODQzMDlDMy43NTU5MTUtNC4xODQzMDkgMy44NjU1MDQtMy42NDYzMjYgMy44NjU1MDQtMy4wNzg0NTZWLS43NTcxNjFDMy44NjU1MDQtLjMwODg0MiAzLjc1NTkxNS0uMzA4ODQyIDMuMDg4NDE4LS4zMDg4NDJWMEMzLjQzNzExMS0uMDA5OTYzIDMuOTQ1MjA1LS4wMjk4ODggNC4yMTQxOTctLjAyOTg4OEM0LjQ3MzIyNS0uMDI5ODg4IDQuOTkxMjgzLS4wMDk5NjMgNS4zMzAwMTIgMFYtLjMwODg0MkM0LjgxMTk1NS0uMzA4ODQyIDQuNTYyODg5LS4zMDg4NDIgNC41NTI5MjctLjYwNzcyMVYtMi41MTA1ODVDNC41NTI5MjctMy4zNjczNzIgNC41NTI5MjctMy42NzYyMTQgNC4yNDQwODUtNC4wMzQ4NjlDNC4xMDQ2MDgtNC4yMDQyMzQgMy43NzU4NDEtNC40MDM0ODcgMy4xOTgwMDctNC40MDM0ODdDMi4zNjExNDYtNC40MDM0ODcgMS45MjI3OS0zLjgwNTcyOSAxLjc1MzQyNS0zLjQyNzE0OFYtNi45MTQwNzJMLjMxODgwNC02LjgwNDQ4M1YtNi40OTU2NDFDMS4wMTYxODktNi40OTU2NDEgMS4wOTU4OS02LjQyNTkwMyAxLjA5NTg5LTUuOTM3NzMzVi0uNzU3MTYxWicvPg0KPC9kZWZzPg0KPGcgaWQ9J3BhZ2UxJz4NCjxwYXRoIGQ9J00tNjEuODM5ODQzIDM0LjEzMjgxNEgxMDguMjQxOUw1MS41NTA5LTUwLjkxMDJILTUuMTQ0NVonIHN0cm9rZT0nIzAwMCcgZmlsbD0nbm9uZScgc3Ryb2tlLXdpZHRoPScuMzk4NScgc3Ryb2tlLW1pdGVybGltaXQ9JzEwJy8+DQo8cGF0aCBkPSdNMjMuMjAzMSAzNC4xMzI4MTRWLTUwLjkxMDInIHN0cm9rZT0nIzAwMCcgZmlsbD0nbm9uZScgc3Ryb2tlLXdpZHRoPScuMzk4NScgc3Ryb2tlLW1pdGVybGltaXQ9JzEwJyBzdHJva2UtZGFzaGFycmF5PScyLjk4ODgzIDIuOTg4ODMnLz4NCjxnIHRyYW5zZm9ybT0nbWF0cml4KDEgMCAwIDEgODIuNTQ5NyA3LjgwOTMpJz4NCjx1c2UgeD0nLTYxLjgzODExNCcgeT0nMzQuMTMxNzExJyB4bGluazpocmVmPScjZzAtOTcnLz4NCjwvZz4NCjxnIHRyYW5zZm9ybT0nbWF0cml4KDEgMCAwIDEgMTQ1LjI1MzkgLTM5LjA2MDkxKSc+DQo8dXNlIHg9Jy02MS44MzgxMTQnIHk9JzM0LjEzMTcxMScgeGxpbms6aHJlZj0nI2cwLTk4Jy8+DQo8L2c+DQo8ZyB0cmFuc2Zvcm09J21hdHJpeCgxIDAgMCAxIDgyLjgyNjUgLTg4LjU2MDIpJz4NCjx1c2UgeD0nLTYxLjgzODExNCcgeT0nMzQuMTMxNzExJyB4bGluazpocmVmPScjZzAtOTknLz4NCjwvZz4NCjxnIHRyYW5zZm9ybT0nbWF0cml4KDEgMCAwIDEgMTkuMjkyMSAtMzkuMDYwOTEpJz4NCjx1c2UgeD0nLTYxLjgzODExNCcgeT0nMzQuMTMxNzExJyB4bGluazpocmVmPScjZzAtMTAwJy8+DQo8L2c+DQo8ZyB0cmFuc2Zvcm09J21hdHJpeCgxIDAgMCAxIDg4LjU2MDIgLTM5LjA2MDkxKSc+DQo8dXNlIHg9Jy02MS44MzgxMTQnIHk9JzM0LjEzMTcxMScgeGxpbms6aHJlZj0nI2cwLTEwNCcvPg0KPC9nPg0KPC9nPg0KPC9zdmc+\" />"
   ]
  },
  {
   "cell_type": "code",
   "execution_count": 13,
   "metadata": {
    "id": "2lAwtze9k9DZ"
   },
   "outputs": [],
   "source": [
    "# implementieren Sie hier den Code zur Berechnung der Trapezfläche"
   ]
  },
  {
   "cell_type": "markdown",
   "metadata": {
    "id": "Fuf3G8dampRy"
   },
   "source": [
    "### Teilbar durch Sieben"
   ]
  },
  {
   "cell_type": "markdown",
   "metadata": {
    "id": "vytazFO9m1g6"
   },
   "source": [
    "Implementieren Sie eine Funkiton, welche eine beliebige ganze Zahl auf ihre Teilbarkeit durch 7 prüft."
   ]
  },
  {
   "cell_type": "code",
   "execution_count": 14,
   "metadata": {
    "id": "d7Zt0mcim0GE"
   },
   "outputs": [],
   "source": [
    "# implementieren Sie hier die Funktion zur Prüfung der Teilbarkeit"
   ]
  }
 ],
 "metadata": {
  "colab": {
   "provenance": []
  },
  "kernelspec": {
   "display_name": "Python 3",
   "language": "python",
   "name": "python3"
  },
  "language_info": {
   "codemirror_mode": {
    "name": "ipython",
    "version": 3
   },
   "file_extension": ".py",
   "mimetype": "text/x-python",
   "name": "python",
   "nbconvert_exporter": "python",
   "pygments_lexer": "ipython3",
   "version": "3.13.1"
  },
  "widgets": {
   "application/vnd.jupyter.widget-state+json": {
    "state": {},
    "version_major": 2,
    "version_minor": 0
   }
  }
 },
 "nbformat": 4,
 "nbformat_minor": 4
}