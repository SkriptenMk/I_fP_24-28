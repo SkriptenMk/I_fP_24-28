{
 "cells": [
  {
   "cell_type": "markdown",
   "metadata": {},
   "source": [
    "# Selection Sort in Python\n",
    "\n",
    "(Schrittweise Implementierung)"
   ]
  },
  {
   "cell_type": "code",
   "execution_count": 1,
   "metadata": {},
   "outputs": [],
   "source": [
    "testsequenz = [3, 2, 4, 1, 5]"
   ]
  },
  {
   "cell_type": "code",
   "execution_count": 2,
   "metadata": {},
   "outputs": [],
   "source": [
    "def get_min_index(seq: list, start: int) -> int:\n",
    "    '''\n",
    "    Funktion zur Suche nach dem Index des kleinsten Elements in einer Liste.\n",
    "    \n",
    "    Eingabewerte:\n",
    "        seq: Python-Liste mit den Elementen, unter welchen der Index des\n",
    "        kleinsten Elements gesucht wird.\n",
    "        start: Index, bei welchem die Suche beginnt.\n",
    "    \n",
    "    Rückgabewert:\n",
    "        int: Index des kleinsten Elements der als Argument übergebenen\n",
    "        Python-Liste.\n",
    "    '''\n",
    "    min_index = start\n",
    "    for i in range(start, len(seq)):\n",
    "        if seq[i] < seq[min_index]:\n",
    "            min_index = i\n",
    "    return min_index"
   ]
  },
  {
   "cell_type": "code",
   "execution_count": 3,
   "metadata": {},
   "outputs": [
    {
     "data": {
      "text/plain": [
       "3"
      ]
     },
     "execution_count": 3,
     "metadata": {},
     "output_type": "execute_result"
    }
   ],
   "source": [
    "get_min_index(testsequenz, 0)"
   ]
  },
  {
   "cell_type": "code",
   "execution_count": 4,
   "metadata": {},
   "outputs": [],
   "source": [
    "def change(seq: list, ausgangspunkt: int, zielpunkt: int) -> None:\n",
    "    '''\n",
    "    Funktion zum Platztausch zweier Element in einer Python-Liste.\n",
    "    \n",
    "    Eingabewerte:\n",
    "        seq: Python-Liste mit den zu tauschenden Elementen.\n",
    "        ausgangspunkt: Index des ersten Elements, welches getauscht werden soll.\n",
    "        zielpunkt: Index des zweiten Elements, welches getauscht werden soll.\n",
    "    '''\n",
    "    tmp = seq[zielpunkt]\n",
    "    seq[zielpunkt] = seq[ausgangspunkt]\n",
    "    seq[ausgangspunkt] = tmp"
   ]
  },
  {
   "cell_type": "code",
   "execution_count": 5,
   "metadata": {},
   "outputs": [
    {
     "data": {
      "text/plain": [
       "[1, 2, 4, 3, 5]"
      ]
     },
     "execution_count": 5,
     "metadata": {},
     "output_type": "execute_result"
    }
   ],
   "source": [
    "change(testsequenz,3,0)\n",
    "testsequenz"
   ]
  },
  {
   "cell_type": "code",
   "execution_count": 6,
   "metadata": {},
   "outputs": [],
   "source": [
    "def selection_sort(seq: list) -> None:\n",
    "    '''\n",
    "    Diese Funktion implementiert selection sort. Eine Python-Liste wird in-place sortiert. \n",
    "    \n",
    "    Eingabewert:\n",
    "       seq: Die Python-Liste, welche sortiert werden soll.\n",
    "    '''\n",
    "    for i in range(len(seq)):\n",
    "        min = get_min_index(seq, i)\n",
    "        change(seq, min, i)"
   ]
  },
  {
   "cell_type": "code",
   "execution_count": 7,
   "metadata": {},
   "outputs": [
    {
     "data": {
      "text/plain": [
       "[1, 2, 3, 4, 5]"
      ]
     },
     "execution_count": 7,
     "metadata": {},
     "output_type": "execute_result"
    }
   ],
   "source": [
    "selection_sort(testsequenz)\n",
    "testsequenz"
   ]
  },
  {
   "cell_type": "code",
   "execution_count": null,
   "metadata": {},
   "outputs": [],
   "source": []
  }
 ],
 "metadata": {
  "kernelspec": {
   "display_name": "Python 3 (ipykernel)",
   "language": "python",
   "name": "python3"
  },
  "language_info": {
   "codemirror_mode": {
    "name": "ipython",
    "version": 3
   },
   "file_extension": ".py",
   "mimetype": "text/x-python",
   "name": "python",
   "nbconvert_exporter": "python",
   "pygments_lexer": "ipython3",
   "version": "3.13.1"
  },
  "widgets": {
   "application/vnd.jupyter.widget-state+json": {
    "state": {},
    "version_major": 2,
    "version_minor": 0
   }
  }
 },
 "nbformat": 4,
 "nbformat_minor": 4
}