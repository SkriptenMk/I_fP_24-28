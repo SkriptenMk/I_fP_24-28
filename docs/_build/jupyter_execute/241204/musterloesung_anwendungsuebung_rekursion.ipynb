{
 "cells": [
  {
   "cell_type": "markdown",
   "metadata": {},
   "source": [
    "# Einführende Beispiele für rekursive Funktionen"
   ]
  },
  {
   "cell_type": "markdown",
   "metadata": {},
   "source": [
    "## Addieren der natürlichen Zahlen 1 - $n$\n",
    "\n",
    "Die Lösung für diese Aufgabe erfolgt heute mit der Gausschen Summenformel\n",
    "(kleiner Gauss) berechnet: \n",
    "\n",
    "$$\n",
    "1+2+3+...+n = \\sum_{k=1}^n k = \\frac{n(n+1)}{2} = \\frac{n^2+n}{2}\n",
    "$$\n",
    "\n",
    "Die Aufgabe kann aber auch rekursiv gelöst werden:\n",
    "\n",
    "$$\n",
    "1+2+3+...+n = n + (n - 1) + ((n - 1) - 1) +... + (n - n)\n",
    "$$\n",
    "\n",
    "In einem ersten Schritt wird der kleine Gauss als Funktion implementiert. In\n",
    "einem zweiten Schritt soll die gleiche Funktion rekursiv implementiert werden. "
   ]
  },
  {
   "cell_type": "markdown",
   "metadata": {},
   "source": [
    "### Kleiner Gauss als Funktion in Python"
   ]
  },
  {
   "cell_type": "code",
   "execution_count": 1,
   "metadata": {},
   "outputs": [
    {
     "data": {
      "text/plain": [
       "55"
      ]
     },
     "execution_count": 1,
     "metadata": {},
     "output_type": "execute_result"
    }
   ],
   "source": [
    "def kleiner_gauss(n: int) -> int:\n",
    "    return int((n**2+n)/2)   # die Funktion int() transformiert das Resultat in ein int\n",
    "\n",
    "kleiner_gauss(10)"
   ]
  },
  {
   "cell_type": "markdown",
   "metadata": {},
   "source": [
    "Grundsätzlich wird in der Funktion lediglich die Formel des kleinen Gauss\n",
    "abgearbeitet. Weil Python standardmässig das Resultat einer Divisionsrechnung\n",
    "als float darstellt, muss das Resultat der Berechnung in ein integer umgewandelt\n",
    "werden. Mann nennt diese Typenkonversion in der Informatik *type casting*. Der\n",
    "*cast* erfolgt in diesem Fall mit der Funktion `int()`."
   ]
  },
  {
   "cell_type": "markdown",
   "metadata": {},
   "source": [
    "### Addition der natürlichen Zahlen 1 - $n$ als rekursive Funktion"
   ]
  },
  {
   "cell_type": "code",
   "execution_count": 2,
   "metadata": {},
   "outputs": [
    {
     "data": {
      "text/plain": [
       "55"
      ]
     },
     "execution_count": 2,
     "metadata": {},
     "output_type": "execute_result"
    }
   ],
   "source": [
    "def gauss_rekursiv(n: int) -> int:\n",
    "    if n == 0:               # Abbruchbedingung\n",
    "        return n\n",
    "    else:                    # rekursiver Aufruf\n",
    "        return n + gauss_rekursiv(n-1)\n",
    "    \n",
    "gauss_rekursiv(10)"
   ]
  },
  {
   "cell_type": "markdown",
   "metadata": {},
   "source": [
    "Damit eine rekursive Funktion nicht zu einer Endlosschleife wird, muss zu Beginn\n",
    "eine Abbruchbedingung formuliert werden. Im vorliegenden Beispiel soll die\n",
    "Funktion abbrechen, wenn die Bedingung `n == 0` erfüllt ist.  In allen anderen\n",
    "Fällen soll die Funktion mit dem um $1$ reduzierten Argument $n$ erneut\n",
    "aufgerufen werden (Rekursion)."
   ]
  },
  {
   "cell_type": "markdown",
   "metadata": {},
   "source": [
    "Bei $n = 5$ ergibt sich durch den Aufruf von  `gauss_rekrsiv(5)` folgende\n",
    "Kaskade von Funktionsaufrufen:\n",
    "\n",
    "```txt\n",
    "5 + gauss_rekursiv(4)\n",
    "    4 + gauss_rekursiv(3)\n",
    "        3 + gauss_rekursiv(2)\n",
    "            2 + gauss_rekursiv(1)\n",
    "                1\n",
    "            3 (2 + 1)\n",
    "        6 (3 + 3)\n",
    "    10 (4 + 6)\n",
    "15 (5 + 10)\n",
    "```"
   ]
  },
  {
   "cell_type": "markdown",
   "metadata": {},
   "source": [
    "## Berechnung von $n!$"
   ]
  },
  {
   "cell_type": "markdown",
   "metadata": {},
   "source": [
    "### Berechnen von $n!$ mit einem for-loop"
   ]
  },
  {
   "cell_type": "code",
   "execution_count": 3,
   "metadata": {},
   "outputs": [
    {
     "data": {
      "text/plain": [
       "120"
      ]
     },
     "execution_count": 3,
     "metadata": {},
     "output_type": "execute_result"
    }
   ],
   "source": [
    "def factorial_loop(n: int) -> int:\n",
    "    result = 1\n",
    "    for i in range(1,n+1):\n",
    "        result *= i\n",
    "        \n",
    "    return result\n",
    "\n",
    "factorial_loop(5)"
   ]
  },
  {
   "cell_type": "markdown",
   "metadata": {},
   "source": [
    "Wenn $n!$ mit einem `for-loop` berechnet wird, muss in der Funktion eine\n",
    "Variabel mit dem neutralen Wert für Multiplikationen (1) instanziert werden\n",
    "bevor der loop beginnt. Im loop muss darauf geachtet werden, dass er bei 1\n",
    "beginnt, andernfalls würde der Wert von `result` 0. Ausserdem muss der Endwert\n",
    "$n+1$ sein (der Endwert der `range()` Funktion wird nicht erreicht)."
   ]
  },
  {
   "cell_type": "markdown",
   "metadata": {},
   "source": [
    "### Berechnen von $n!$ mit einer rekursiven Funktion"
   ]
  },
  {
   "cell_type": "code",
   "execution_count": 4,
   "metadata": {},
   "outputs": [
    {
     "data": {
      "text/plain": [
       "120"
      ]
     },
     "execution_count": 4,
     "metadata": {},
     "output_type": "execute_result"
    }
   ],
   "source": [
    "def factorial_recursive(n: int) -> int:\n",
    "    if n == 1 or n == 0:\n",
    "        return 1\n",
    "    else:\n",
    "        return n * factorial_recursive(n-1)\n",
    "    \n",
    "factorial_recursive(5)"
   ]
  },
  {
   "cell_type": "markdown",
   "metadata": {},
   "source": [
    "Als Abbruchbedingung werden in diesem Fall zwei Fälle definiert: `n == 1` und `n\n",
    "== 0`. Sowohl für $1!$ wie auch für $0!$ ist das Resultat per definitionem 1."
   ]
  },
  {
   "cell_type": "markdown",
   "metadata": {},
   "source": [
    "Bei $n = 5$ ergibt sich durch den Aufruf von `factorial_recursive(5)` folgende\n",
    "Kaskade von Funktionsaufrufen: \n",
    "\n",
    "```txt\n",
    "5 * factorial_recursive(4)\n",
    "    4 * factorial_recursive(3)\n",
    "        4 * factorial_recursive(2)\n",
    "            2 * factorial_recursive(1)\n",
    "            1\n",
    "        2 (2 * 1)\n",
    "    8 (4 * 2)\n",
    "40 (5 * 8)\n",
    "```"
   ]
  },
  {
   "cell_type": "markdown",
   "metadata": {},
   "source": [
    "## Berechnung der $n$-ten Fibonacci-Zahl\n",
    "\n",
    "Die Fibonacci Folge ist die Folge aller Zahlen, beginnend bei 1, bei der jeweils\n",
    "die Summe der beiden vorangegangenen Zahlen die nächste Zahl ergeben. Als\n",
    "Übungsaufgabe soll die $n$-te Fibonacci-Zahl zuerst mit einem loop und\n",
    "anschliessend rekursiv implementiert werden."
   ]
  },
  {
   "cell_type": "markdown",
   "metadata": {},
   "source": [
    "### Fibonacci Zahl mit `for-loop`"
   ]
  },
  {
   "cell_type": "code",
   "execution_count": 5,
   "metadata": {},
   "outputs": [
    {
     "data": {
      "text/plain": [
       "21"
      ]
     },
     "execution_count": 5,
     "metadata": {},
     "output_type": "execute_result"
    }
   ],
   "source": [
    "def fibonacci_loop(n: int) -> int:\n",
    "    if n <= 2:\n",
    "        return 1\n",
    "    n1 = 1\n",
    "    n2 = 1\n",
    "    for i in range(2,n):\n",
    "        tmp = n2\n",
    "        n2 = n1 + n2\n",
    "        n1 = tmp\n",
    "        \n",
    "    return n2\n",
    "\n",
    "fibonacci_loop(8)"
   ]
  },
  {
   "cell_type": "markdown",
   "metadata": {},
   "source": [
    "Die ersten beiden Fibonacci-Zahlen sind $1$. Entsprechend wird bei $n\\leq 2$ $1$\n",
    "zurückgegeben. Aus der gleichen Überlegung werden die beiden der gesuchten Zahl\n",
    "vorausgehenden Zahlen $n_1$ und $n_2$ mit $1$ instanziert. Anschliessend werden in\n",
    "der Schlaufe die beiden Zahlen zusammengezählt und neu zugewiesen. Nach $n$\n",
    "iterationen wird der aktuelle Wert von $n_2$ zurückgegeben."
   ]
  },
  {
   "cell_type": "markdown",
   "metadata": {},
   "source": [
    "### Fibonacci Zahl mit rekursiver Funktion"
   ]
  },
  {
   "cell_type": "code",
   "execution_count": 6,
   "metadata": {},
   "outputs": [
    {
     "data": {
      "text/plain": [
       "21"
      ]
     },
     "execution_count": 6,
     "metadata": {},
     "output_type": "execute_result"
    }
   ],
   "source": [
    "def fibonacci_recursive(n: int) -> int:\n",
    "    if n == 1 or n == 2:\n",
    "        return 1\n",
    "    else:\n",
    "        return fibonacci_recursive(n-1) + fibonacci_recursive(n-2)\n",
    "    \n",
    "fibonacci_recursive(8)"
   ]
  },
  {
   "cell_type": "markdown",
   "metadata": {},
   "source": [
    "Als Abbruchbedingung müssen für die rekursive Berechnung der $n$-ten Fibonacci\n",
    "Zahl zwei Fälle berücksichtigt werden: $n=1$ und $n=2$. In beiden Fällen ist der\n",
    "Rückgabewert $1$. Rekursiv wird die Funktion mit $n-1$ **und** $n-2$ aufgerufen.\n",
    "Dies führt allerdings dazu, dass die erforderlichen Rekursionsebenen\n",
    "exponentiell zu $n$ zunehmen."
   ]
  },
  {
   "cell_type": "markdown",
   "metadata": {},
   "source": [
    "Den Aufbau des Call Stacks bei $n = 5$ für die Funktion `fibonacci_recursive(5)`\n",
    "zeigt die folgende Grafik:\n"
   ]
  },
  {
   "cell_type": "markdown",
   "metadata": {},
   "source": [
    "<img alt=\"\" src=\"data:image/svg+xml;base64,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\" />"
   ]
  }
 ],
 "metadata": {
  "kernelspec": {
   "display_name": "Python 3 (ipykernel)",
   "language": "python",
   "name": "python3"
  },
  "language_info": {
   "codemirror_mode": {
    "name": "ipython",
    "version": 3
   },
   "file_extension": ".py",
   "mimetype": "text/x-python",
   "name": "python",
   "nbconvert_exporter": "python",
   "pygments_lexer": "ipython3",
   "version": "3.13.1"
  },
  "widgets": {
   "application/vnd.jupyter.widget-state+json": {
    "state": {},
    "version_major": 2,
    "version_minor": 0
   }
  }
 },
 "nbformat": 4,
 "nbformat_minor": 4
}