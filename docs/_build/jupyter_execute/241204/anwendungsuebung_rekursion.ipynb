{
 "cells": [
  {
   "cell_type": "markdown",
   "metadata": {},
   "source": [
    "# Einführende Beispiele für rekursive Funktionen"
   ]
  },
  {
   "cell_type": "markdown",
   "metadata": {},
   "source": [
    "## Addieren der natürlichen Zahlen 1 - $n$\n",
    "\n",
    "Die Lösung für diese Aufgabe erfolgt heute mit der Gausschen Summenformel\n",
    "(kleiner Gauss) berechnet: \n",
    "\n",
    "$$\n",
    "1+2+3+...+n = \\sum_{k=1}^n k = \\frac{n(n+1)}{2} = \\frac{n^2+n}{2}\n",
    "$$\n",
    "\n",
    "Die Aufgabe kann aber auch rekursiv gelöst werden:\n",
    "\n",
    "$$\n",
    "1+2+3+...+n = n + (n - 1) + ((n - 1) - 1) +... + (n - n)\n",
    "$$\n",
    "\n",
    "In einem ersten Schritt wird der kleine Gauss als Funktion implementiert. In\n",
    "einem zweiten Schritt soll die gleiche Funktion rekursiv implementiert werden. "
   ]
  },
  {
   "cell_type": "markdown",
   "metadata": {},
   "source": [
    "### Kleiner Gauss als Funktion in Python"
   ]
  },
  {
   "cell_type": "code",
   "execution_count": 1,
   "metadata": {},
   "outputs": [
    {
     "data": {
      "text/plain": [
       "55"
      ]
     },
     "execution_count": 1,
     "metadata": {},
     "output_type": "execute_result"
    }
   ],
   "source": [
    "def kleiner_gauss(n: int) -> int:\n",
    "    return int((n**2+n)/2)   # die Funktion int() transformiert das Resultat in ein int\n",
    "\n",
    "kleiner_gauss(10)"
   ]
  },
  {
   "cell_type": "markdown",
   "metadata": {},
   "source": [
    "Grundsätzlich wird in der Funktion lediglich die Formel des kleinen Gauss\n",
    "abgearbeitet. Weil Python standardmässig das Resultat einer Divisionsrechnung\n",
    "als float darstellt, muss das Resultat der Berechnung in ein integer umgewandelt\n",
    "werden. Mann nennt diese Typenkonversion in der Informatik *type casting*. Der\n",
    "*cast* erfolgt in diesem Fall mit der Funktion `int()`."
   ]
  },
  {
   "cell_type": "markdown",
   "metadata": {},
   "source": [
    "### Addition der natürlichen Zahlen 1 - $n$ als rekursive Funktion"
   ]
  },
  {
   "cell_type": "code",
   "execution_count": 2,
   "metadata": {},
   "outputs": [
    {
     "data": {
      "text/plain": [
       "55"
      ]
     },
     "execution_count": 2,
     "metadata": {},
     "output_type": "execute_result"
    }
   ],
   "source": [
    "def gaus_rekursiv(n: int) -> int:\n",
    "    if n == 0:               # Abbruchbedingung\n",
    "        return n\n",
    "    else:                    # rekursiver Aufruf\n",
    "        return n + gaus_rekursiv(n-1)\n",
    "    \n",
    "gaus_rekursiv(10)"
   ]
  },
  {
   "cell_type": "markdown",
   "metadata": {},
   "source": [
    "Damit eine rekursive Funktion nicht zu einer Endlosschleife wird, muss zu Beginn\n",
    "eine Abbruchbedingung formuliert werden. Im vorliegenden Beispiel soll die\n",
    "Funktion abbrechen, wenn die Bedingung `n == 0` erfüllt ist.  In allen anderen\n",
    "Fällen soll die Funktion mit dem um $1$ reduzierten Argument $n$ erneut\n",
    "aufgerufen werden (Rekursion)."
   ]
  },
  {
   "cell_type": "markdown",
   "metadata": {},
   "source": [
    "## Berechnung von $n!$"
   ]
  },
  {
   "cell_type": "markdown",
   "metadata": {},
   "source": [
    "### Berechnen von $n!$ mit einem for-loop"
   ]
  },
  {
   "cell_type": "code",
   "execution_count": 3,
   "metadata": {},
   "outputs": [],
   "source": [
    "def factorial_loop(n: int) -> int:\n",
    "    # TODO: implementieren Sie n! mit einem loop\n",
    "    pass"
   ]
  },
  {
   "cell_type": "markdown",
   "metadata": {},
   "source": [
    "*Platz für Notizen*"
   ]
  },
  {
   "cell_type": "markdown",
   "metadata": {},
   "source": [
    "### Berechnen von $n!$ mit einer rekursiven Funktion"
   ]
  },
  {
   "cell_type": "code",
   "execution_count": 4,
   "metadata": {},
   "outputs": [],
   "source": [
    "def factorial_recursive(n: int) -> int:\n",
    "    # TODO: implementieren Sie n! rekursiv\n",
    "    pass"
   ]
  },
  {
   "cell_type": "markdown",
   "metadata": {},
   "source": [
    "*Platz für Notizen*"
   ]
  },
  {
   "cell_type": "markdown",
   "metadata": {},
   "source": [
    "## Berechnung der $n$-ten Fibonacci-Zahl\n",
    "\n",
    "Die Fibonacci Folge ist die Folge aller Zahlen, beginnend bei 1, bei der jeweils\n",
    "die Summe der beiden vorangegangenen Zahlen die nächste Zahl ergeben. Als\n",
    "Übungsaufgabe soll die $n$-te Fibonacci-Zahl zuerst mit einem loop und\n",
    "anschliessend rekursiv implementiert werden."
   ]
  },
  {
   "cell_type": "markdown",
   "metadata": {},
   "source": [
    "### Fibonacci Zahl mit `for-loop`"
   ]
  },
  {
   "cell_type": "code",
   "execution_count": 5,
   "metadata": {},
   "outputs": [],
   "source": [
    "def fibonacci_loop(n: int) -> int:\n",
    "    # TODO: implementieren Sie die Berechnung der n-ten Fibonacci Zahl mit einem loop\n",
    "    pass"
   ]
  },
  {
   "cell_type": "markdown",
   "metadata": {},
   "source": [
    "*Platz für Notizen*"
   ]
  },
  {
   "cell_type": "markdown",
   "metadata": {},
   "source": [
    "### Fibonacci Zahl mit rekursiver Funktion"
   ]
  },
  {
   "cell_type": "code",
   "execution_count": 6,
   "metadata": {},
   "outputs": [
    {
     "ename": "_IncompleteInputError",
     "evalue": "incomplete input (4060047694.py, line 2)",
     "output_type": "error",
     "traceback": [
      "\u001b[1;36m  Cell \u001b[1;32mIn[6], line 2\u001b[1;36m\u001b[0m\n\u001b[1;33m    # TODO: implementieren Sie die Berechnung der n-ten Fibonacci Zahl rekursiv\u001b[0m\n\u001b[1;37m                                                                               ^\u001b[0m\n\u001b[1;31m_IncompleteInputError\u001b[0m\u001b[1;31m:\u001b[0m incomplete input\n"
     ]
    }
   ],
   "source": [
    "def fibonacci_recursive(n: int) -> int:\n",
    "    # TODO: implementieren Sie die Berechnung der n-ten Fibonacci Zahl rekursiv"
   ]
  },
  {
   "cell_type": "markdown",
   "metadata": {},
   "source": [
    "*Platz für Notizen*"
   ]
  }
 ],
 "metadata": {
  "kernelspec": {
   "display_name": "Python 3",
   "language": "python",
   "name": "python3"
  },
  "language_info": {
   "codemirror_mode": {
    "name": "ipython",
    "version": 3
   },
   "file_extension": ".py",
   "mimetype": "text/x-python",
   "name": "python",
   "nbconvert_exporter": "python",
   "pygments_lexer": "ipython3",
   "version": "3.13.1"
  },
  "widgets": {
   "application/vnd.jupyter.widget-state+json": {
    "state": {},
    "version_major": 2,
    "version_minor": 0
   }
  }
 },
 "nbformat": 4,
 "nbformat_minor": 4
}