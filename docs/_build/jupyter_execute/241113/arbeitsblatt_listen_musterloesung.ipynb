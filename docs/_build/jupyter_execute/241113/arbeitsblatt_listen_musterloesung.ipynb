{
 "cells": [
  {
   "cell_type": "markdown",
   "metadata": {},
   "source": [
    "# Arbeitsblatt zur Datenstruktur Python-Listen"
   ]
  },
  {
   "cell_type": "markdown",
   "metadata": {},
   "source": [
    "In diesem Arbeitsblatt geht es darum, mit Hilfe von Python-Listen zu prüfen,\n",
    "ob Sie mit Ihren aktuellen Noten die Promotionsbedinungen erfüllen.\n",
    "\n",
    "Erstellen Sie dazu in der folgenden Code Zelle als erstes eine Python-Liste `noten`\n",
    "mit Ihren aktuellen Noten sowie eine Python-Liste `faecher` mit den Fächern (in der\n",
    "gleichen Reihenfolge wie die Noten)."
   ]
  },
  {
   "cell_type": "code",
   "execution_count": 1,
   "metadata": {},
   "outputs": [],
   "source": [
    "noten = [4, 4, 5, 4, 4.5, 4.5, 4.5, 4, 5, 3]\n",
    "faecher = ['D', 'F', 'E', 'M', 'C', 'I', 'G', 'Gg', 'K', 'WR']"
   ]
  },
  {
   "cell_type": "markdown",
   "metadata": {},
   "source": [
    "Um zu kontrollieren, ob Ihre Eingabe stimmt, schreiben Sie eine for-Schleife,\n",
    "welche parallel über beide Python-Listen iteriert und Fach: Note ausgibt."
   ]
  },
  {
   "cell_type": "code",
   "execution_count": 2,
   "metadata": {},
   "outputs": [
    {
     "name": "stdout",
     "output_type": "stream",
     "text": [
      "D: 4\n",
      "F: 4\n",
      "E: 5\n",
      "M: 4\n",
      "C: 4.5\n",
      "I: 4.5\n",
      "G: 4.5\n",
      "Gg: 4\n",
      "K: 5\n",
      "WR: 3\n"
     ]
    }
   ],
   "source": [
    "for i in range(len(noten)):\n",
    "    print(f'{faecher[i]}: {noten[i]}')"
   ]
  },
  {
   "cell_type": "markdown",
   "metadata": {},
   "source": [
    "Die Promotionsbedingungen sind erfüllt, sofern die Kompensationszahl\n",
    "grösser oder gleich Null ist. Um diese zu berechnen, muss als erstes\n",
    "von jeder Note, welche grösser als vier ist, vier subtrahiert werden\n",
    "und das Total dieser Differenzen zu den `hochpunkte`n aufadiert werden.\n",
    "\n",
    "Lösen Sie dieses Problem mit Hilfe einer list comprehension."
   ]
  },
  {
   "cell_type": "code",
   "execution_count": 3,
   "metadata": {},
   "outputs": [],
   "source": [
    "positiv_noten = [note-4 for note in noten if note > 4]\n",
    "hochpunkte = sum(positiv_noten)"
   ]
  },
  {
   "cell_type": "markdown",
   "metadata": {},
   "source": [
    "In einem zweiten Schritt ist mit den Noten unter vier gleich zu verfahren. Die Differenzen von\n",
    "vier zur ungenüngenden Note sind zu den `tiefpunkte`n aufzuaddieren.\n",
    "\n",
    "Lösen Sie auch dieses Problem mit Hilfe einer list comprehension."
   ]
  },
  {
   "cell_type": "code",
   "execution_count": 4,
   "metadata": {},
   "outputs": [],
   "source": [
    "negativ_noten = [4-note for note in noten if note < 4]\n",
    "tiefpunkte = sum(negativ_noten)"
   ]
  },
  {
   "cell_type": "markdown",
   "metadata": {},
   "source": [
    "Die Berechnung der Kompensationszahl erfolgt nach der Formel `hochpunkte - 2 * tiefpunkte`."
   ]
  },
  {
   "cell_type": "code",
   "execution_count": 5,
   "metadata": {},
   "outputs": [],
   "source": [
    "kompensationszahl = hochpunkte - 2 * tiefpunkte"
   ]
  },
  {
   "cell_type": "code",
   "execution_count": 6,
   "metadata": {},
   "outputs": [
    {
     "data": {
      "text/plain": [
       "1.5"
      ]
     },
     "execution_count": 6,
     "metadata": {},
     "output_type": "execute_result"
    }
   ],
   "source": [
    "kompensationszahl"
   ]
  },
  {
   "cell_type": "markdown",
   "metadata": {},
   "source": [
    "Zum Abschluss fassen Sie die vorherigen Einzelschritte in einer Funktion\n",
    "`promotion_erfuellt()` zusammen. Die Funktion soll die Notenliste entgegennehmen\n",
    "und `True` oder `False` zurückgeben, je nach dem, ob die Pormotionsbedingungen\n",
    "erüfllt sind oder nicht."
   ]
  },
  {
   "cell_type": "code",
   "execution_count": 7,
   "metadata": {},
   "outputs": [],
   "source": [
    "def promotion_erfuellt_partiell(noten):\n",
    "    positive_noten = [note-4 for note in noten if note > 4]\n",
    "    negative_noten = [4-note for note in noten if note < 4]\n",
    "    hochpunkte = sum(positive_noten)\n",
    "    tiefpunkte = sum(negative_noten)\n",
    "    kompensationszahl = hochpunkte - 2 * tiefpunkte\n",
    "    return kompensationszahl >= 0"
   ]
  },
  {
   "cell_type": "code",
   "execution_count": 8,
   "metadata": {},
   "outputs": [
    {
     "data": {
      "text/plain": [
       "True"
      ]
     },
     "execution_count": 8,
     "metadata": {},
     "output_type": "execute_result"
    }
   ],
   "source": [
    "promotion_erfuellt_partiell(noten)"
   ]
  },
  {
   "cell_type": "markdown",
   "metadata": {},
   "source": [
    "## Vollständige Umsetzung der Promotionsbedingungen\n",
    "\n",
    "Die bisherige Lösung kontrolliert ausschliesslich die doppelte Kompensation ungenügender Noten. Zusätzlich dürfen ausserdem nicht mehr als drei Noten ungenügnden sein (§ 9 des Promotionsregelements für die Gymnasien des Kantons Zürich vom 10. März 1998)."
   ]
  },
  {
   "cell_type": "code",
   "execution_count": 9,
   "metadata": {},
   "outputs": [],
   "source": [
    "def promotion_erfuellt(noten):\n",
    "    positive_noten = [note-4 for note in noten if note > 4]\n",
    "    negative_noten = [4-note for note in noten if note < 4]\n",
    "    anzahl_tiefnoten = len(negative_noten)\n",
    "    hochpunkte = sum(positive_noten)\n",
    "    tiefpunkte = sum(negative_noten)\n",
    "    kompensationszahl = hochpunkte - 2 * tiefpunkte\n",
    "    return kompensationszahl >= 0 and anzahl_tiefnoten <= 3"
   ]
  },
  {
   "cell_type": "code",
   "execution_count": 10,
   "metadata": {},
   "outputs": [
    {
     "data": {
      "text/plain": [
       "True"
      ]
     },
     "execution_count": 10,
     "metadata": {},
     "output_type": "execute_result"
    }
   ],
   "source": [
    "promotion_erfuellt(noten)"
   ]
  }
 ],
 "metadata": {
  "kernelspec": {
   "display_name": "Python 3",
   "language": "python",
   "name": "python3"
  },
  "language_info": {
   "codemirror_mode": {
    "name": "ipython",
    "version": 3
   },
   "file_extension": ".py",
   "mimetype": "text/x-python",
   "name": "python",
   "nbconvert_exporter": "python",
   "pygments_lexer": "ipython3",
   "version": "3.13.1"
  },
  "widgets": {
   "application/vnd.jupyter.widget-state+json": {
    "state": {},
    "version_major": 2,
    "version_minor": 0
   }
  }
 },
 "nbformat": 4,
 "nbformat_minor": 4
}