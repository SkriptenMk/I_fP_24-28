{
 "cells": [
  {
   "cell_type": "markdown",
   "metadata": {},
   "source": [
    "# Arbeitsblatt zur Datenstruktur Python-Listen"
   ]
  },
  {
   "cell_type": "markdown",
   "metadata": {},
   "source": [
    "In diesem Arbeitsblatt geht es darum, mit Hilfe von Python-Listen zu prüfen,\n",
    "ob Sie mit Ihren aktuellen Noten die Promotionsbedinungen erfüllen.\n",
    "\n",
    "Erstellen Sie dazu in der folgenden Code Zelle als erstes eine Python-Liste `noten`\n",
    "mit Ihren aktuellen Noten sowie eine Python-Liste `faecher` mit den Fächern (in der\n",
    "gleichen Reihenfolge wie die Noten)."
   ]
  },
  {
   "cell_type": "code",
   "execution_count": 1,
   "metadata": {},
   "outputs": [],
   "source": [
    "# hier Python-Listen erstellen"
   ]
  },
  {
   "cell_type": "markdown",
   "metadata": {},
   "source": [
    "Um zu kontrollieren, ob Ihre Eingabe stimmt, schreiben Sie eine for-Schleife,\n",
    "welche parallel über beide Python-Listen iteriert und Fach: Note ausgibt."
   ]
  },
  {
   "cell_type": "code",
   "execution_count": 2,
   "metadata": {},
   "outputs": [],
   "source": [
    "# hier die for-Schleife implementieren"
   ]
  },
  {
   "cell_type": "markdown",
   "metadata": {},
   "source": [
    "Die Promotionsbedingungen sind erfüllt, sofern die Kompensationszahl\n",
    "grösser oder gleich Null ist. Um diese zu berechnen, muss als erstes\n",
    "von jeder Note, welche grösser als vier ist, vier subtrahiert werden\n",
    "und das Total dieser Differenzen zu den `hochpunkte`n aufadiert werden.\n",
    "\n",
    "Lösen Sie dieses Problem mit Hilfe einer list comprehension."
   ]
  },
  {
   "cell_type": "code",
   "execution_count": 3,
   "metadata": {},
   "outputs": [],
   "source": [
    "# hier die Hochpunkte berechnen"
   ]
  },
  {
   "cell_type": "markdown",
   "metadata": {},
   "source": [
    "In einem zweiten Schritt ist mit den Noten unter vier gleich zu verfahren. Die Differenzen von\n",
    "vier zur ungenüngenden Note sind zu den `tiefpunkte`n aufzuaddieren.\n",
    "\n",
    "Lösen Sie auch dieses Problem mit Hilfe einer list comprehension."
   ]
  },
  {
   "cell_type": "code",
   "execution_count": 4,
   "metadata": {},
   "outputs": [],
   "source": [
    "# hier die Tiefpunkte berechnen"
   ]
  },
  {
   "cell_type": "markdown",
   "metadata": {},
   "source": [
    "Die Berechnung der Kompensationszahl erfolgt nach der Formel `hochpunkte - 2 * tiefpunkte`."
   ]
  },
  {
   "cell_type": "code",
   "execution_count": 5,
   "metadata": {},
   "outputs": [],
   "source": [
    "# hier die Kompensatzionszahl berechnen"
   ]
  },
  {
   "cell_type": "markdown",
   "metadata": {},
   "source": [
    "Zum Abschluss fassen Sie die vorherigen Einzelschritte in einer Funktion\n",
    "`promotion_erfuellt()` zusammen. Die Funktion soll die Notenliste entgegennehmen\n",
    "und `True` oder `False` zurückgeben, je nach dem, ob die Pormotionsbedingungen\n",
    "erüfllt sind oder nicht."
   ]
  },
  {
   "cell_type": "code",
   "execution_count": 6,
   "metadata": {},
   "outputs": [],
   "source": [
    "def promotion_erfuellt(noten):\n",
    "    # TODO: Funktion implementieren\n",
    "    pass"
   ]
  }
 ],
 "metadata": {
  "kernelspec": {
   "display_name": "Python 3 (ipykernel)",
   "language": "python",
   "name": "python3"
  },
  "language_info": {
   "codemirror_mode": {
    "name": "ipython",
    "version": 3
   },
   "file_extension": ".py",
   "mimetype": "text/x-python",
   "name": "python",
   "nbconvert_exporter": "python",
   "pygments_lexer": "ipython3",
   "version": "3.13.1"
  },
  "widgets": {
   "application/vnd.jupyter.widget-state+json": {
    "state": {},
    "version_major": 2,
    "version_minor": 0
   }
  }
 },
 "nbformat": 4,
 "nbformat_minor": 4
}