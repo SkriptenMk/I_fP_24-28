{
 "cells": [
  {
   "cell_type": "code",
   "execution_count": 1,
   "id": "5021651a-5750-493c-8458-8398c5138d38",
   "metadata": {},
   "outputs": [
    {
     "ename": "ModuleNotFoundError",
     "evalue": "No module named 'pytamaro'",
     "output_type": "error",
     "traceback": [
      "\u001b[1;31m---------------------------------------------------------------------------\u001b[0m",
      "\u001b[1;31mModuleNotFoundError\u001b[0m                       Traceback (most recent call last)",
      "Cell \u001b[1;32mIn[1], line 1\u001b[0m\n\u001b[1;32m----> 1\u001b[0m \u001b[38;5;28;01mfrom\u001b[39;00m \u001b[38;5;21;01mpytamaro\u001b[39;00m\u001b[38;5;21;01m.\u001b[39;00m\u001b[38;5;21;01mde\u001b[39;00m \u001b[38;5;28;01mimport\u001b[39;00m (\n\u001b[0;32m      2\u001b[0m     schwarz, rot,\n\u001b[0;32m      3\u001b[0m     rechteck,\n\u001b[0;32m      4\u001b[0m     neben, ueber,\n\u001b[0;32m      5\u001b[0m     zeige_grafik,\n\u001b[0;32m      6\u001b[0m )\n",
      "\u001b[1;31mModuleNotFoundError\u001b[0m: No module named 'pytamaro'"
     ]
    }
   ],
   "source": [
    "from pytamaro.de import (\n",
    "    schwarz, rot,\n",
    "    rechteck,\n",
    "    neben, ueber,\n",
    "    zeige_grafik,\n",
    ")"
   ]
  },
  {
   "cell_type": "code",
   "execution_count": 4,
   "id": "9d1328b7-442a-4d3e-8152-408992c34bb4",
   "metadata": {},
   "outputs": [],
   "source": [
    "sq = rechteck(50, 50, schwarz)\n",
    "rq = rechteck(50, 50, rot)"
   ]
  },
  {
   "cell_type": "code",
   "execution_count": 16,
   "id": "eb09ac5a-de0e-4ab0-83fc-64eaee5fbc14",
   "metadata": {},
   "outputs": [
    {
     "name": "stdout",
     "output_type": "stream",
     "text": [
      "2\n",
      "4\n",
      "6\n"
     ]
    },
    {
     "data": {
      "image/png": "[encoded data removed]",
      "text/plain": [
       "<PIL.Image.Image image mode=RGBA size=400x50>"
      ]
     },
     "metadata": {},
     "output_type": "display_data"
    }
   ],
   "source": [
    "ungerade_reihe = rq\n",
    "\n",
    "for i in range(1, 8):\n",
    "    if i % 2 == 0:\n",
    "        ungerade_reihe = neben(ungerade_reihe, rq)\n",
    "        print(i)\n",
    "    else:\n",
    "        ungerade_reihe = neben(ungerade_reihe, sq)\n",
    "\n",
    "zeige_grafik(ungerade_reihe)"
   ]
  },
  {
   "cell_type": "code",
   "execution_count": 15,
   "id": "baf48bca-8853-49d1-9d5b-05aee0bd4e9c",
   "metadata": {},
   "outputs": [
    {
     "name": "stdout",
     "output_type": "stream",
     "text": [
      "2\n",
      "4\n",
      "6\n"
     ]
    },
    {
     "data": {
      "image/png": "[encoded data removed]",
      "text/plain": [
       "<PIL.Image.Image image mode=RGBA size=400x50>"
      ]
     },
     "metadata": {},
     "output_type": "display_data"
    }
   ],
   "source": [
    "gerade_reihe = sq\n",
    "\n",
    "for i in range(1, 8):\n",
    "    if i % 2 == 0:\n",
    "        gerade_reihe = neben(gerade_reihe, sq)\n",
    "        print(i)\n",
    "    else:\n",
    "        gerade_reihe = neben(gerade_reihe, rq)\n",
    "\n",
    "zeige_grafik(gerade_reihe)"
   ]
  },
  {
   "cell_type": "code",
   "execution_count": null,
   "id": "7199a5fc-7ec6-4cda-bb66-835d370212f3",
   "metadata": {},
   "outputs": [],
   "source": []
  }
 ],
 "metadata": {
  "kernelspec": {
   "display_name": "Python 3 (ipykernel)",
   "language": "python",
   "name": "python3"
  },
  "language_info": {
   "codemirror_mode": {
    "name": "ipython",
    "version": 3
   },
   "file_extension": ".py",
   "mimetype": "text/x-python",
   "name": "python",
   "nbconvert_exporter": "python",
   "pygments_lexer": "ipython3",
   "version": "3.13.1"
  },
  "widgets": {
   "application/vnd.jupyter.widget-state+json": {
    "state": {},
    "version_major": 2,
    "version_minor": 0
   }
  }
 },
 "nbformat": 4,
 "nbformat_minor": 5
}