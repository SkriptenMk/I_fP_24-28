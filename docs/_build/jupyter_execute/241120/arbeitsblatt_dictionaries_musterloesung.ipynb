{
 "cells": [
  {
   "cell_type": "markdown",
   "metadata": {},
   "source": [
    "# Anwendungsbeispiele für Python Dictionaries"
   ]
  },
  {
   "cell_type": "markdown",
   "metadata": {},
   "source": [
    "Gegeben sei die folgende Notenzusammenstellung im Fach Mathematik:"
   ]
  },
  {
   "cell_type": "markdown",
   "metadata": {},
   "source": [
    "| Datum | Note | Thema |\n",
    "| --- | --- | :--- |\n",
    "| 240920 | 4.5 | lineare Gleichungen |\n",
    "| 241028 | 4.3 | quadratische Gleichungen |\n",
    "| 241119 | 5.2 | Kurvendiskussion |\n"
   ]
  },
  {
   "cell_type": "markdown",
   "metadata": {},
   "source": [
    "Überführen Sie diese Tabelle in ein Python Dictionary `noten_m`."
   ]
  },
  {
   "cell_type": "code",
   "execution_count": 1,
   "metadata": {},
   "outputs": [],
   "source": [
    "noten_m = {\n",
    "    240920: [4.5, 'lineare Gleichungen'],\n",
    "    241028: [4.3, 'quadratische Gleichungen'],\n",
    "    241119: [5.2, 'Kurvendiskussion'],\n",
    "}"
   ]
  },
  {
   "cell_type": "markdown",
   "metadata": {},
   "source": [
    "Berechnen Sie den Mittelwert der Note in Mathematik. Iterieren Sie dazu mit einem *for-loop* über den Dictionary und weisen Sie das Resultat der Variabel `mittelwert_m` zu."
   ]
  },
  {
   "cell_type": "code",
   "execution_count": 2,
   "metadata": {},
   "outputs": [
    {
     "name": "stdout",
     "output_type": "stream",
     "text": [
      "Die Durchschnittsnote in Mathematik ist 4.67.\n"
     ]
    }
   ],
   "source": [
    "sum_m = 0\n",
    "\n",
    "for item, value in noten_m.items():\n",
    "    sum_m += value[0]\n",
    "    \n",
    "mittelwert_m = sum_m / len(noten_m)\n",
    "\n",
    "print(f'Die Durchschnittsnote in Mathematik ist {mittelwert_m:.2f}.')"
   ]
  },
  {
   "cell_type": "markdown",
   "metadata": {},
   "source": [
    "In den Sprachfächern werden oft Noten mit unterschiedlicher Gewichtung erteilt. Eine entsprechende Notenzusammenstellung fineden Sie in der folgenden Tabelle."
   ]
  },
  {
   "cell_type": "markdown",
   "metadata": {},
   "source": [
    "| Datum | Gewichtung | Note | Thema |\n",
    "| --- | --- | --- | :--- |\n",
    "| 240927 | 0.5 | 4.75 | Voci |\n",
    "| 241022 | 1.0 | 3.5 | Grammatik |\n",
    "| 241111 | 2.0 | 4.1 | Literatur |"
   ]
  },
  {
   "cell_type": "markdown",
   "metadata": {},
   "source": [
    "Überführen Sie diese Tabelle in ein Python Dictionary `noten_f`."
   ]
  },
  {
   "cell_type": "code",
   "execution_count": 3,
   "metadata": {},
   "outputs": [],
   "source": [
    "noten_f = {\n",
    "    240927: [0.5, 4.75, 'Voci'],\n",
    "    241022: [1, 3.5, 'Grammatik'],\n",
    "    241111: [2, 4.1, 'Literatur'],\n",
    "}"
   ]
  },
  {
   "cell_type": "markdown",
   "metadata": {},
   "source": [
    "Berechnen Sie den Mittelwert der Note in Mathematik. Iterieren Sie dazu mit einem *for-loop* über den Dictionary und weisen Sie das Resultat der Variabel `mittelwert_f` zu."
   ]
  },
  {
   "cell_type": "code",
   "execution_count": 4,
   "metadata": {},
   "outputs": [
    {
     "name": "stdout",
     "output_type": "stream",
     "text": [
      "Die Durchschnittsnote in Französisch ist 4.02.\n"
     ]
    }
   ],
   "source": [
    "sum_f = 0\n",
    "divisor_f = 0\n",
    "\n",
    "for item, value in noten_f.items():\n",
    "    sum_f += value[0] * value[1]\n",
    "    divisor_f += value[0]\n",
    "    \n",
    "mittelwert_f = sum_f / divisor_f\n",
    "\n",
    "print(f'Die Durchschnittsnote in Französisch ist {mittelwert_f:.2f}.')"
   ]
  },
  {
   "cell_type": "markdown",
   "metadata": {},
   "source": [
    "Auch die Notenliste von vergangener Woche kann so als Dictionary abgelegt werden."
   ]
  },
  {
   "cell_type": "code",
   "execution_count": 5,
   "metadata": {},
   "outputs": [],
   "source": [
    "zwischenzensuren = {\n",
    "    'D': 4,\n",
    "    'F': 4,\n",
    "    'E': 5,\n",
    "    'M': 4, \n",
    "    'C': 4.5, \n",
    "    'I': 4.5,\n",
    "    'G': 4.5,\n",
    "    'Gg': 4,\n",
    "    'K': 5,\n",
    "    'WR': 3,\n",
    "}"
   ]
  },
  {
   "cell_type": "markdown",
   "metadata": {},
   "source": [
    "Die Funktion zur Überprfung der Promotionsbedingungen muss entsprechend angepasst werden."
   ]
  },
  {
   "cell_type": "code",
   "execution_count": 6,
   "metadata": {},
   "outputs": [],
   "source": [
    "def promotion_erfuellt(noten):\n",
    "    summe_tiefpunkte = 0\n",
    "    summe_hochpunkte = 0\n",
    "    counter_tiefnoten = 0\n",
    "    \n",
    "    for item, value in noten.items():\n",
    "        if value < 4:\n",
    "            summe_tiefpunkte += 4 - value\n",
    "            counter_tiefnoten += 1\n",
    "        elif value > 4:\n",
    "            summe_hochpunkte += value - 4\n",
    "            \n",
    "    kompensationszahl = summe_hochpunkte - 2 * summe_tiefpunkte\n",
    "    \n",
    "    return kompensationszahl >= 0 and counter_tiefnoten <= 3\n",
    "    "
   ]
  },
  {
   "cell_type": "code",
   "execution_count": 7,
   "metadata": {},
   "outputs": [
    {
     "data": {
      "text/plain": [
       "True"
      ]
     },
     "execution_count": 7,
     "metadata": {},
     "output_type": "execute_result"
    }
   ],
   "source": [
    "promotion_erfuellt(zwischenzensuren)"
   ]
  }
 ],
 "metadata": {
  "kernelspec": {
   "display_name": "Python 3 (ipykernel)",
   "language": "python",
   "name": "python3"
  },
  "language_info": {
   "codemirror_mode": {
    "name": "ipython",
    "version": 3
   },
   "file_extension": ".py",
   "mimetype": "text/x-python",
   "name": "python",
   "nbconvert_exporter": "python",
   "pygments_lexer": "ipython3",
   "version": "3.13.1"
  },
  "widgets": {
   "application/vnd.jupyter.widget-state+json": {
    "state": {},
    "version_major": 2,
    "version_minor": 0
   }
  }
 },
 "nbformat": 4,
 "nbformat_minor": 4
}