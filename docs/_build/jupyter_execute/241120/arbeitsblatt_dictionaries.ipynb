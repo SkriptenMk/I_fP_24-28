{
 "cells": [
  {
   "cell_type": "markdown",
   "metadata": {},
   "source": [
    "# Anwendungsbeispiele für Python Dictionaries"
   ]
  },
  {
   "cell_type": "markdown",
   "metadata": {},
   "source": [
    "Gegeben sei die folgende Notenzusammenstellung im Fach Mathematik:"
   ]
  },
  {
   "cell_type": "markdown",
   "metadata": {},
   "source": [
    "| Datum | Note | Thema |\n",
    "| --- | --- | :--- |\n",
    "| 240920 | 4.5 | lineare Gleichungen |\n",
    "| 241028 | 4.3 | quadratische Gleichungen |\n",
    "| 241119 | 5.2 | Kurvendiskussion |\n"
   ]
  },
  {
   "cell_type": "markdown",
   "metadata": {},
   "source": [
    "Überführen Sie diese Tabelle in ein Python Dictionary `noten_m`."
   ]
  },
  {
   "cell_type": "code",
   "execution_count": 1,
   "metadata": {},
   "outputs": [],
   "source": [
    "# hier kommt Ihr Code"
   ]
  },
  {
   "cell_type": "markdown",
   "metadata": {},
   "source": [
    "Berechnen Sie den Mittelwert der Note in Mathematik. Iterieren Sie dazu mit einem *for-loop* über den Dictionary und weisen Sie das Resultat der Variabel `mittelwert_m` zu."
   ]
  },
  {
   "cell_type": "code",
   "execution_count": 2,
   "metadata": {},
   "outputs": [],
   "source": [
    "# hier kommt Ihr Code"
   ]
  },
  {
   "cell_type": "markdown",
   "metadata": {},
   "source": [
    "In den Sprachfächern werden oft Noten mit unterschiedlicher Gewichtung erteilt. Eine entsprechende Notenzusammenstellung fineden Sie in der folgenden Tabelle."
   ]
  },
  {
   "cell_type": "markdown",
   "metadata": {},
   "source": [
    "| Datum | Gewichtung | Note | Thema |\n",
    "| --- | --- | --- | :--- |\n",
    "| 240927 | 0.5 | 4.75 | Voci |\n",
    "| 241022 | 1.0 | 3.5 | Grammatik |\n",
    "| 241111 | 2.0 | 4.1 | Literatur |"
   ]
  },
  {
   "cell_type": "markdown",
   "metadata": {},
   "source": [
    "Überführen Sie diese Tabelle in ein Python Dictionary `noten_f`."
   ]
  },
  {
   "cell_type": "code",
   "execution_count": 3,
   "metadata": {},
   "outputs": [],
   "source": [
    "# hier kommt Ihr Code"
   ]
  },
  {
   "cell_type": "markdown",
   "metadata": {},
   "source": [
    "Berechnen Sie den Mittelwert der Note in Mathematik. Iterieren Sie dazu mit einem *for-loop* über den Dictionary und weisen Sie das Resultat der Variabel `mittelwert_f` zu."
   ]
  },
  {
   "cell_type": "code",
   "execution_count": 4,
   "metadata": {},
   "outputs": [],
   "source": [
    "# hier kommt Ihr Code"
   ]
  },
  {
   "cell_type": "markdown",
   "metadata": {},
   "source": [
    "Auch die Notenliste von vergangener Woche kann so als Dictionary abgelegt werden."
   ]
  },
  {
   "cell_type": "code",
   "execution_count": 5,
   "metadata": {},
   "outputs": [],
   "source": [
    "# hier kommt Ihr Code"
   ]
  },
  {
   "cell_type": "markdown",
   "metadata": {},
   "source": [
    "Die Funktion zur Überprfung der Promotionsbedingungen muss entsprechend angepasst werden."
   ]
  },
  {
   "cell_type": "code",
   "execution_count": 6,
   "metadata": {},
   "outputs": [],
   "source": [
    "def promotion_erfuellt(noten):\n",
    "    # TODO: implementieren Sie die Funktion mit einem Dictionary als Input\n",
    "    pass"
   ]
  }
 ],
 "metadata": {
  "kernelspec": {
   "display_name": "venv",
   "language": "python",
   "name": "python3"
  },
  "language_info": {
   "codemirror_mode": {
    "name": "ipython",
    "version": 3
   },
   "file_extension": ".py",
   "mimetype": "text/x-python",
   "name": "python",
   "nbconvert_exporter": "python",
   "pygments_lexer": "ipython3",
   "version": "3.13.1"
  }
 },
 "nbformat": 4,
 "nbformat_minor": 2
}