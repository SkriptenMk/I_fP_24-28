{
 "cells": [
  {
   "cell_type": "code",
   "execution_count": 1,
   "metadata": {},
   "outputs": [],
   "source": [
    "def merge(s1, s2, s):\n",
    "    i = j = 0\n",
    "\n",
    "    while i + j < len(s):\n",
    "        if j == len(s2) or (i < len(s1) and s1[i] < s2[j]):\n",
    "            s[i+j] = s1[i]\n",
    "            i += 1\n",
    "        else:\n",
    "            s[i+j] = s2[j]\n",
    "            j += 1"
   ]
  },
  {
   "cell_type": "code",
   "execution_count": 9,
   "metadata": {},
   "outputs": [],
   "source": [
    "def merge_sort(s):\n",
    "    n = len(s)\n",
    "\n",
    "    if n < 2:\n",
    "        return\n",
    "\n",
    "    mid = n // 2\n",
    "    s1 = s[0:mid]\n",
    "    s2 = s[mid:n]\n",
    "\n",
    "    merge_sort(s1)\n",
    "    merge_sort(s2)\n",
    "\n",
    "    merge(s1, s2, s)"
   ]
  },
  {
   "cell_type": "code",
   "execution_count": 10,
   "metadata": {},
   "outputs": [],
   "source": [
    "test = [9, 2, 8, 7, 5]"
   ]
  },
  {
   "cell_type": "code",
   "execution_count": 11,
   "metadata": {},
   "outputs": [],
   "source": [
    "merge_sort(test)"
   ]
  },
  {
   "cell_type": "code",
   "execution_count": 12,
   "metadata": {},
   "outputs": [
    {
     "data": {
      "text/plain": [
       "[2, 5, 7, 8, 9]"
      ]
     },
     "execution_count": 12,
     "metadata": {},
     "output_type": "execute_result"
    }
   ],
   "source": [
    "test"
   ]
  },
  {
   "cell_type": "code",
   "execution_count": null,
   "metadata": {},
   "outputs": [],
   "source": []
  }
 ],
 "metadata": {
  "kernelspec": {
   "display_name": ".venv",
   "language": "python",
   "name": "python3"
  },
  "language_info": {
   "codemirror_mode": {
    "name": "ipython",
    "version": 3
   },
   "file_extension": ".py",
   "mimetype": "text/x-python",
   "name": "python",
   "nbconvert_exporter": "python",
   "pygments_lexer": "ipython3",
   "version": "3.12.6"
  }
 },
 "nbformat": 4,
 "nbformat_minor": 2
}
