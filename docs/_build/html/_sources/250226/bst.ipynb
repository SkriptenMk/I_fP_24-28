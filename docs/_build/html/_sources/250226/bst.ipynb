{
 "cells": [
  {
   "cell_type": "markdown",
   "metadata": {},
   "source": [
    "# Binary Search Tree"
   ]
  },
  {
   "cell_type": "code",
   "execution_count": 1,
   "metadata": {},
   "outputs": [],
   "source": [
    "class BSTNode:\n",
    "    def __init__(self, key, value=None):\n",
    "        self.key = key\n",
    "        self.value = value\n",
    "        self.parent = None\n",
    "        self.left = None\n",
    "        self.right = None\n",
    "\n",
    "        def __str__(self):\n",
    "            key = str(self.key)\n",
    "            parent = 'None' if self.parent is None else str(self.parent.key)\n",
    "            left = 'None' if self.left is None else str(self.left.key)\n",
    "            right = 'None' if self.right is None else str(self.right.key)\n",
    "            s = (\n",
    "                f'\\tParent = {parent}\\n'\n",
    "                f'\\tKey = {key}\\n'\n",
    "                f'Left = {left}\\tRight = {right}'\n",
    "            )\n",
    "            return s"
   ]
  },
  {
   "cell_type": "code",
   "execution_count": 2,
   "metadata": {},
   "outputs": [],
   "source": [
    "class BST:\n",
    "    def __init__(self, key=None, value=None):\n",
    "        if key is None:\n",
    "            self.root = None\n",
    "        else:\n",
    "            node = BSTNode(key, value)            \n",
    "            self.root = node\n",
    "            \n",
    "    def insert(self, key, value=None, root=None):\n",
    "        node = BSTNode(key, value)\n",
    "        if self.root is None:\n",
    "            self.root = node\n",
    "            return\n",
    "\n",
    "        if root is None:\n",
    "            root = self.root\n",
    "        \n",
    "        if key < root.key and root.left is None:\n",
    "            root.left = node\n",
    "            node.parent = root\n",
    "            return\n",
    "\n",
    "        if key < root.key:\n",
    "            root = root.left\n",
    "            self.insert(key, value, root)\n",
    "            \n",
    "        \n",
    "        if key > root.key and root.right is None:\n",
    "            root.right = node\n",
    "            node.parent = root\n",
    "            return\n",
    "\n",
    "        if key > root.key:\n",
    "            root = root.right\n",
    "            self.insert(key, value, root)\n",
    "\n",
    "    def min(self):\n",
    "        minimum = self.root\n",
    "        \n",
    "        while minimum.left is not None:\n",
    "            minimum = minimum.left\n",
    "        \n",
    "        return minimum\n",
    "\n",
    "    def max(self):\n",
    "        maximum = self.root\n",
    "\n",
    "        while maximum.right is not None:\n",
    "            maximum = maximum.right\n",
    "\n",
    "        return maximum\n",
    "            \n",
    "        \n",
    "    \n",
    "    def delete(self):\n",
    "        pass\n",
    "    \n",
    "    def iterate(self):\n",
    "        pass"
   ]
  }
 ],
 "metadata": {
  "kernelspec": {
   "display_name": "Python 3 (ipykernel)",
   "language": "python",
   "name": "python3"
  },
  "language_info": {
   "codemirror_mode": {
    "name": "ipython",
    "version": 3
   },
   "file_extension": ".py",
   "mimetype": "text/x-python",
   "name": "python",
   "nbconvert_exporter": "python",
   "pygments_lexer": "ipython3",
   "version": "3.12.6"
  },
  "widgets": {
   "application/vnd.jupyter.widget-state+json": {
    "state": {},
    "version_major": 2,
    "version_minor": 0
   }
  }
 },
 "nbformat": 4,
 "nbformat_minor": 4
}
