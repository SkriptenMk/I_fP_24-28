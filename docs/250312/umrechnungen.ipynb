{
 "cells": [
  {
   "cell_type": "markdown",
   "metadata": {},
   "source": [
    "# Python Funktionen zum Umrechnen zwichen den Zahlensystemen"
   ]
  },
  {
   "cell_type": "markdown",
   "metadata": {},
   "source": [
    "Python stellt Funktionen zur Verfügung, mit deren Hilfe Zahlen zwischen den\n",
    "verschiedenen Zahlensystemen umgerechnet werden können. Trotzdem sollen in\n",
    "diesem Notebook eigene Funktionen implementiert werden, mit deren Hilfe Zahlen\n",
    "zwischen dem Dezimal- und Binärsystem umgerechnet werden können.\n",
    "\n",
    "Ausserdem sollen Funktionen implementiert werden, mit welchen Strings in ihre\n",
    "binäre Repräsentation umgewandelt werden können und umgekehrt."
   ]
  },
  {
   "cell_type": "markdown",
   "metadata": {},
   "source": [
    "## Umrechnung von Binär- in Dezimalzahlen"
   ]
  },
  {
   "cell_type": "code",
   "execution_count": null,
   "metadata": {},
   "outputs": [],
   "source": [
    "def bin2dec(binary: str) -> int:\n",
    "    # TODO: implementieren Sie hier die Funktion\n",
    "    pass\n",
    "        "
   ]
  },
  {
   "cell_type": "markdown",
   "metadata": {},
   "source": [
    "## Umrechnung von Dezimal- in Binärzahlen"
   ]
  },
  {
   "cell_type": "code",
   "execution_count": null,
   "metadata": {},
   "outputs": [],
   "source": [
    "def dec2bin(decimal: int) -> str:\n",
    "    # TODO: implementieren Sie hier die Funktion\n",
    "    pass"
   ]
  },
  {
   "cell_type": "markdown",
   "metadata": {},
   "source": [
    "## Binäre Repräsentation von Strings"
   ]
  },
  {
   "cell_type": "markdown",
   "metadata": {},
   "source": [
    "Für die Darstellung eines Strings in binärer Form wird auf die dezimale \n",
    "Repräsentation des Unicode-Zeichens zurückgegriffen. Dazu stellt Python die\n",
    "Funktion `ord()` zur Verfügung. Diese Funktion gibt die dezimale Repräsentation\n",
    "eines Unicode-Zeichens zurück."
   ]
  },
  {
   "cell_type": "code",
   "execution_count": null,
   "metadata": {},
   "outputs": [],
   "source": [
    "def str2bin(s: str) -> str:\n",
    "    # TODO: implementieren Sie hier die Funktion\n",
    "    pass"
   ]
  },
  {
   "cell_type": "markdown",
   "metadata": {},
   "source": [
    "## Umwandlung der binären Repräsentation in einen String"
   ]
  },
  {
   "cell_type": "markdown",
   "metadata": {},
   "source": [
    "Um aus der dezimalen Repräsentation eines Unicode-Zeichens wieder den\n",
    "entsprechenden String zu erhalten, stellt Python die Funktion `chr()` zur\n",
    "Verfügung. "
   ]
  },
  {
   "cell_type": "code",
   "execution_count": null,
   "metadata": {},
   "outputs": [],
   "source": [
    "def bin2str(binary: str) -> str:\n",
    "    # TODO: implementieren Sie hier die Funktion\n",
    "    pass"
   ]
  }
 ],
 "metadata": {
  "kernelspec": {
   "display_name": "venv",
   "language": "python",
   "name": "python3"
  },
  "language_info": {
   "codemirror_mode": {
    "name": "ipython",
    "version": 3
   },
   "file_extension": ".py",
   "mimetype": "text/x-python",
   "name": "python",
   "nbconvert_exporter": "python",
   "pygments_lexer": "ipython3",
   "version": "3.13.1"
  }
 },
 "nbformat": 4,
 "nbformat_minor": 2
}
